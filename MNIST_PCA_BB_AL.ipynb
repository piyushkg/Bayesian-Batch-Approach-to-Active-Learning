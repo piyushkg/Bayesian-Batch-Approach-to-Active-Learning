{
 "cells": [
  {
   "cell_type": "code",
   "execution_count": 1,
   "metadata": {
    "id": "MvbvFUY030BX"
   },
   "outputs": [],
   "source": [
    "import pystan \n",
    "import numpy as np\n",
    "import matplotlib.pyplot as plt\n",
    "import arviz as av\n",
    "import pickle\n",
    "from scipy.stats import entropy\n",
    "from sklearn.datasets import make_classification\n",
    "from sklearn.model_selection import train_test_split\n",
    "from sklearn.linear_model import LogisticRegression\n",
    "from sklearn.preprocessing import OneHotEncoder\n",
    "from sklearn.metrics import confusion_matrix\n",
    "from sklearn.metrics import accuracy_score\n",
    "from keras.datasets import mnist\n",
    "from sklearn.preprocessing import StandardScaler\n",
    "from scipy.linalg import eigh"
   ]
  },
  {
   "cell_type": "markdown",
   "metadata": {
    "id": "1X_uf20b30Bd"
   },
   "source": [
    "# Bayesian Batch Active Learning as Sparse Subset Approximation\n",
    "The key idea here is to construct (iteratively) a batch $ \\mathcal{D}^' $ such that it's log posterior ($ p(\\theta| \\mathcal{D}_O \\cup \\mathcal{D}^') $) best approximates the complete data log posterior ($p(\\theta| \\mathcal{D}_O \\cup \\mathcal{D}_p)$, $\\mathcal{D}_p$ being the Data pool for AL). Complete Data log posterior can be represented as:\n",
    "\n",
    "\\begin{multline*}\n",
    " log (p(\\theta |\\mathcal{D}_O \\cup (\\mathcal{X}_P, \\mathcal{Y}_P) )) =  log (p(\\theta | \\mathcal{D}_O))  \\\\\n",
    " +  log (p(\\mathcal{Y}_P | \\mathcal{X}_P, \\theta ))    +  log (p(\\mathcal{Y}_P | \\mathcal{X}_P, \\mathcal{D}_O )) \n",
    "\\end{multline*}\n",
    "\n",
    "Now, since $\\mathcal{Y}_P$ is not accessible unless it is queried, the Expectation of the above expression is taken with respect to the Posterior Predictive Distribution of $\\mathcal{Y}_P$.\n",
    "\n",
    "\n",
    "\\begin{equation}\n",
    "    \\begin{split}\n",
    "\\underset{\\mathcal{Y}_P}{\\mathbb{E}} log p(\\theta |\\mathcal{D}_O \\cup (\\mathcal{X}_P, \\mathcal{Y}_P) ) & =   \\underset{\\mathcal{Y}_P}{\\mathbb{E}} log p(\\theta | \\mathcal{D}_O) \\\\\n",
    "& +  \\underset{\\mathcal{Y}_P}{\\mathbb{E}} log p(\\mathcal{Y}_P | \\mathcal{X}_P, \\theta )  \\\\\n",
    "& -   \\underset{\\mathcal{Y}_P}{\\mathbb{E}} log p(\\mathcal{Y}_P | \\mathcal{X}_P, \\mathcal{D}_O ) \n",
    "    \\end{split}\n",
    "\\end{equation}\n",
    "\n",
    "\\begin{equation}\n",
    "    \\begin{split}\n",
    "\\underset{\\mathcal{Y}_P}{\\mathbb{E}} log (p(\\theta |\\mathcal{D}_O \\cup (\\mathcal{X}_P, \\mathcal{Y}_P) )) &=   log (p(\\theta | \\mathcal{D}_O)) \\\\\n",
    "& +  \\underset{\\mathcal{Y}_P}{\\mathbb{E}} log( p(\\mathcal{Y}_P | \\mathcal{X}_P, \\theta ))  \\\\\n",
    "& -   \\mathbb{H} [log (p(\\mathcal{Y}_P | \\mathcal{X}_P, \\mathcal{D}_O )) ]\n",
    "    \\end{split}\n",
    "\\end{equation}\n",
    "\n",
    "\\begin{align}\n",
    "    \\underset{\\mathcal{Y}_P}{\\mathbb{E}} &log (p(\\theta |\\mathcal{D}_O \\cup (\\mathcal{X}_P, \\mathcal{Y}_P) )) =   log (p(\\theta | \\mathcal{D}_O)) \\notag\\\\\n",
    "& + \\sum_{m=1}^{M} \\left( \\underbrace{\\underset{y_m}{\\mathbb{E}} log( p(y_m | x_m, \\theta ))  -   \\mathbb{H} [log (p(y_m | x_m, \\mathcal{D}_O )) ]}_{\\mathcal{L}_m (\\theta)} \\right)\n",
    "\\end{align}\n",
    "\n",
    "In equation 5, the first term on right can be neglected as it depend only on $\\mathcal{D}_O$. Hence the batch can be chosen such that the complete data log posterior is best approximated by $\\sum_m \\mathcal{L}_m(\\theta)$. The problem can now be viewed as Bayesian batch construction as a sparse approximation of complete data log posterior where $\\mathcal{L}(w) = \\sum_m w_m\\mathcal{L}_m(\\theta)$ can be viewed as vector in function space such that $w_m \\in \\{0,1\\}$. Subsequently the optimization problem can be defined as:\n",
    "\n",
    "\\begin{equation}\n",
    "    \\begin{split}\n",
    "    w^* = &  \\: \\underset{w}{minimize} \\: \\|  \\mathcal{L} - \\mathcal{L}(w) \\|^2  \\\\ \n",
    "    & subject\\: to  \\:  \\: \\:w_m \\in \\{ 0,1\\} \\: \\forall \\: m  \n",
    "    \\end{split}\n",
    "\\end{equation}\n",
    "\n",
    "As the optimization problem in equation 6 is intractable, it is approximately solved by Active Bayesian coreset with Frank Wolfe Optimization [13]. The binary weight constraint is replaced to be non negative and the cardinality constraint is changed to a polytope constraint. Hence the renewed optimization problem is as follows:\n",
    "\n",
    "\\begin{equation}\n",
    "    \\begin{split}\n",
    "    & \\underset{w}{minimize} \\: (\\mathbf{1} - \\mathbf{w})^T \\mathbf{K} (\\mathbf{1} - \\mathbf{w})  \\\\ \n",
    "    & subject\\: to  \\:  \\: \\:w_m \\geq 0  \\:  \\: \\forall \\: m,   \\: \\: \\sum_m w_m \\sigma_m = \\sigma\n",
    "    \\end{split}\n",
    "\\end{equation}\n",
    "\n",
    " where $\\sigma_m = \\|\\mathcal{L}_m\\|$, $\\sigma = \\sum_m \\sigma_m$  and $\\mathbf{K}$ is a Kernel matrix with $\\mathbf{K}_{mn} = \\:  \\: <\\mathcal{L}_m, \\mathcal{L}_n>$\n"
   ]
  },
  {
   "cell_type": "markdown",
   "metadata": {
    "id": "EHUQAwrO30Bf"
   },
   "source": [
    "# Implementation: \n",
    "Models were trained using Logistic Regression. The Acquisition function in the above eqn. requires computation of posterior distribution of model parameters (for a Multi-class Logistic Regression). Since the Logistic Regression model has non conjugate Likelihood and Prior w.r.t. parameters, posterior distribution of model parameters can be computed either approximately (Laplace Approximation) or via Monte-Carlo Sampling methods. In this work, Probabilistic programming language \"PyStan\" was utilized to derive samples (through Monte Carlo Sampling) of posterior distribution of samples. These samples were utilized to compute the expectation in second term in R.H.S. of equation above. Computation of Posterior Predictive distribution (the first term in R.H.S. of the quation is similar to that MaxEnt"
   ]
  },
  {
   "cell_type": "markdown",
   "metadata": {
    "id": "a1negCc-30Bh"
   },
   "source": [
    "# Custom Function "
   ]
  },
  {
   "cell_type": "code",
   "execution_count": 2,
   "metadata": {
    "id": "gH3fpjy730Bh"
   },
   "outputs": [],
   "source": [
    "\n",
    "def Reduce_MNIST_dim(MNIST_Data, dim):\n",
    "    '''\n",
    "    \n",
    "    Inputs:\n",
    "        \n",
    "    Outputs:\n",
    "        \n",
    "    '''\n",
    "    MNIST_Data = MNIST_Data/255\n",
    "    no_data = MNIST_Data.shape[0]\n",
    "    no_feature = MNIST_Data.shape[1]*MNIST_Data.shape[2]\n",
    "    \n",
    "    \n",
    "    X = np.ones((no_data,no_feature))\n",
    "    for i in range(no_data):\n",
    "        X[i] = MNIST_Data[i].flatten()\n",
    "    standardized_scalar = StandardScaler()\n",
    "    standardized_data = standardized_scalar.fit_transform(X)\n",
    "    \n",
    "    cov_matrix = np.matmul(standardized_data.T, standardized_data)\n",
    "    \n",
    "    values, vectors = eigh(cov_matrix, eigvals=(no_feature-dim,no_feature-1))\n",
    "    vectors = vectors.T\n",
    "    MNIST_Data_upd = np.matmul(vectors, X.T)\n",
    "    MNIST_Data_upd = MNIST_Data_upd.T\n",
    "    \n",
    "    bias_column = np.ones((no_data,1))\n",
    "    MNIST_Data_upd = np.append(MNIST_Data_upd, bias_column, axis=1)\n",
    "    \n",
    "    return MNIST_Data_upd\n",
    "\n",
    "def PredictHardClass(model, D_pool):\n",
    "    '''\n",
    "    Using the model \"model\", predict hard classification for each data\n",
    "    in the D_pool (each row of D_pool)\n",
    "    Inputs:\n",
    "        model: sklearn.linear_model e.g. sklearn.linear_model._logistic.LogisticRegression\n",
    "        D_pool: numpy.ndarray where each row is a data in A.L. pool set\n",
    "    Outputs:\n",
    "        T_hat: numpy.ndarray where each row is hard prediction of D_pool\n",
    "    '''\n",
    "    T_hat = model.predict(D_pool)\n",
    "    return T_hat\n",
    "\n",
    "def PredictSoftClass(model, D_pool):\n",
    "    '''\n",
    "    Using the model \"model\", predict hard classification for each data\n",
    "    in the D_pool (each row of D_pool)\n",
    "    Inputs:\n",
    "        model: sklearn.linear_model e.g. sklearn.linear_model._logistic.LogisticRegression\n",
    "        D_pool: numpy.ndarray where each row is a data in A.L. pool set\n",
    "    Outputs:\n",
    "        T_proba: numpy.ndarray where each row is soft prediction of D_pool\n",
    "    '''\n",
    "    T_proba = model.predict_proba(D_pool)\n",
    "    return T_proba\n",
    "\n",
    "def getEntropy(T_proba):\n",
    "    '''\n",
    "    Using the model \"model\", predict hard classification for each data\n",
    "    in the D_pool (each row of D_pool)\n",
    "    Inputs:\n",
    "        T_proba: numpy.ndarray where each row is soft prediction of D_pool\n",
    "    Outputs:\n",
    "        Ent: numpy.ndarray where each row is entropy of D_pool data\n",
    "    '''\n",
    "    N = T_proba.shape[0]\n",
    "    Ent = np.zeros(N)\n",
    "    for i in range(N):\n",
    "        Ent[i] = entropy(T_proba[i], base = 2)\n",
    "    return Ent\n",
    "\n",
    "def Create_Fit_Save_Extract_StanModel(no_classes, D_Train, T_Train, filename):\n",
    "    '''\n",
    "    Using the model \"model\", predict hard classification for each data\n",
    "    in the D_pool (each row of D_pool)\n",
    "    Note: This function requires a Stan model to be coded and save separately\n",
    "        Here, filename represents that file hence 'my_model.stan' should be available in the same folder\n",
    "    Inputs:\n",
    "        no_classes: int - no. of classes\n",
    "        D_Train: ndarray - Training data - rows = no. of data point \n",
    "        T_Train: numpy.ndarray where each row is soft prediction of D_pool\n",
    "        filename: name of the file in which stan model is saved\n",
    "    Outputs:\n",
    "        params: Dictionary - \"beta\" is key for all the samples of beta distribution\n",
    "        fit: StanFit4Model - Stats of parameters of logistic reg model\n",
    "        sm: pystan.model.StanModel - type of stan model defined \n",
    "    '''\n",
    "    onehot_encoder = OneHotEncoder(sparse=False)\n",
    "    T_Train = T_Train.reshape(len(T_Train), 1)\n",
    "    T_Train = onehot_encoder.fit_transform(T_Train)\n",
    "    T_Train = T_Train.astype(np.int)\n",
    "    log_reg_data = {\n",
    "             'N': D_Train.shape[0],\n",
    "             'K': T_Train.shape[1],\n",
    "             'M': D_Train.shape[1],\n",
    "             'X': D_Train,\n",
    "             'Y': T_Train\n",
    "            }\n",
    "    \n",
    "    sm = pystan.StanModel(file=filename)\n",
    "    fit = sm.sampling(data=log_reg_data, iter=400, chains=2)\n",
    "    params = fit.extract()\n",
    "    with open('model_fit.pkl','wb') as f:\n",
    "        pickle.dump({'model':sm, 'fit':fit},f)\n",
    "        \n",
    "    with open('model_fit.pkl','rb') as f:\n",
    "        data_dict = pickle.load(f)\n",
    "        \n",
    "    fit = data_dict['fit']\n",
    "    sm = data_dict['model']\n",
    "    return params, fit, sm\n",
    "\n",
    "def Extract_4m_savedStanModel(filename):\n",
    "    '''\n",
    "    This function is used only when fitted stan model is saved as pickle\n",
    "    Inputs:\n",
    "        T_Train: numpy.ndarray (one hot vector) where each row is soft prediction of D_pool\n",
    "    Outputs:\n",
    "        params: Dictionary - \"beta\" is key for all the samples of beta distribution\n",
    "        fit: StanFit4Model - Stats of parameters of logistic reg model\n",
    "        sm: pystan.model.StanModel - type of stan model defined \n",
    "    '''\n",
    "    with open(filename,'rb') as f:\n",
    "        data_dict = pickle.load(f)\n",
    "        \n",
    "    fit = data_dict['fit']\n",
    "    sm = data_dict['model']\n",
    "    params = fit.extract()\n",
    "    return params, fit, sm\n",
    "\n",
    "def Predict_proba_4m_thetasamples(beta_samples, D_pool):\n",
    "    '''\n",
    "    Gives prredicted probability of data in pool set w.r.t. each beta samples\n",
    "    Inputs:\n",
    "        beta_samples: numpy.ndarray (No_samples x No_features x No_class) parameter of Logistic reg. model\n",
    "        D_pool: numpy.ndarray where each row is a data in A.L. pool set\n",
    "    Outputs:\n",
    "        pred_prob: numpy.ndarray (no_beta_samples x N x no_classes) soft prediction of D_pool for each beta sample\n",
    "    '''\n",
    "    no_beta_samples = beta_samples.shape[0]\n",
    "    no_features = beta_samples.shape[1]\n",
    "    no_classes = beta_samples.shape[2]\n",
    "    N = D_pool.shape[0]\n",
    "    \n",
    "    pred_prob = np.zeros((no_beta_samples, N, no_classes))\n",
    "    for i in range(no_beta_samples):\n",
    "        pred_prob[i] = D_pool @ beta_samples[i]\n",
    "        for j in range(N):\n",
    "            for k in range(no_classes):\n",
    "                pred_prob[i,j,k] = np.exp(pred_prob[i,j,k])\n",
    "            norm = np.sum(pred_prob[i,j,:], dtype = np.float32)\n",
    "            pred_prob[i,j,:] = pred_prob[i,j,:]/norm\n",
    "    return pred_prob\n",
    "\n",
    "def Compute_Expec_Entropy(beta_samples, D_pool):\n",
    "    '''\n",
    "    Compute expected entropy (2nd Term in equation of BALD)\n",
    "    Inputs:\n",
    "        beta_samples: numpy.ndarray (No_samples x No_features x No_class) parameter of Logistic reg. model\n",
    "        D_pool: numpy.ndarray where each row is a data in A.L. pool set\n",
    "    Outputs:\n",
    "        Ent: numpy.ndarray where each row is entropy of D_pool data\n",
    "        Expec_Ent: numpy.ndarray where each row is Expected entropy (Exp wrt Posterior) of D_pool data\n",
    "    '''\n",
    "    pred_prob = Predict_proba_4m_thetasamples(beta_samples, D_pool)\n",
    "    no_samples = pred_prob.shape[0]\n",
    "    N = pred_prob.shape[1]\n",
    "    \n",
    "    Ent = np.zeros((no_samples,N))\n",
    "    Expec_Ent = np.zeros(N)\n",
    "    for i in range(no_samples):\n",
    "        Ent[i,:] = getEntropy(pred_prob[i])\n",
    "    Expec_Ent = np.mean(Ent, axis = 0)\n",
    "    return Ent, Expec_Ent\n",
    "\n",
    "def PicknDelete_4mPool(arg_nmax, D_pool, T_pool):\n",
    "    '''\n",
    "    Function to pick data points from D_pool-T_pool using given indices,\n",
    "    place them in D_select (used later to add to training set) and delete\n",
    "    the selected data points from D_pool \n",
    "    Inputs:\n",
    "        arg_nmax: numpy.ndarray with index of 'n' data points\n",
    "        D_pool: numpy.ndarray where each row is a data in A.L. pool set\n",
    "        T_pool: numpy.ndarray where each row is a label corresponding to\n",
    "                data in A.L. pool set\n",
    "    Outputs:\n",
    "        D_select: numpy.ndarray where each row is a data selected from the\n",
    "                  A.L. pool set\n",
    "        T_select: numpy.ndarray where each row is a label corresponding to\n",
    "                  data selected from the A.L. pool set\n",
    "        D_pool_upd: numpy.ndarray where each row is a data in the depleted\n",
    "                    A.L. pool set\n",
    "        T_pool_upd: numpy.ndarray where each row is a label corresponding to\n",
    "                    data in the depleted A.L. pool set\n",
    "    '''\n",
    "    D_select = np.take(D_pool, arg_nmax, axis = 0)\n",
    "    T_select = np.take(T_pool, arg_nmax, axis = 0)\n",
    "    \n",
    "    \n",
    "    D_pool_upd = np.delete(D_pool, arg_nmax, axis=0)\n",
    "    T_pool_upd = np.delete(T_pool, arg_nmax, axis=0)\n",
    "    return D_select, T_select, D_pool_upd, T_pool_upd\n",
    "\n",
    "def Add_2Train(D_select, T_select, D_Train, T_Train):\n",
    "    '''\n",
    "    Adding selected data points to Train set D_Train-T_Train\n",
    "    Inputs:\n",
    "        D_select: numpy.ndarray where each row is a data selected from the\n",
    "                  A.L. pool set\n",
    "        T_select: numpy.ndarray where each row is a label corresponding to\n",
    "                  data selected from the A.L. pool set\n",
    "        D_Train: numpy.ndarray where each row is a data in the Train set\n",
    "        T_Train: numpy.ndarray where each row is a label corresponding to\n",
    "                 data in the Train set\n",
    "    Outputs:\n",
    "        D_Train_upd: numpy.ndarray where each row is a data in the updated\n",
    "                     Train set\n",
    "        T_Train_upd: numpy.ndarray where each row is a label corresponding to\n",
    "                     data in the updated Train set\n",
    "    '''\n",
    "    D_Train_upd = np.vstack((D_Train, D_select))\n",
    "    T_Train_upd = np.concatenate([T_Train,T_select])\n",
    "    return D_Train_upd, T_Train_upd\n",
    "\n",
    "def Find_nonzero_w(w):\n",
    "    '''\n",
    "    Using the entropy corresponding to each data point in D_pool, find 'n'\n",
    "    data points with highest entropy values\n",
    "    Inputs:\n",
    "        n: (int) Number of data points to be selected\n",
    "        AF_pool: numpy.ndarray where each element is entropy of D_pool data\n",
    "    Outputs:\n",
    "        arg_nmax: numpy.ndarray with index of 'n' data points with highest\n",
    "                  entropy values\n",
    "    '''\n",
    "    nonzero_w_idx = []\n",
    "    for i in range(len(w)):\n",
    "        if w[i] > 0:\n",
    "            nonzero_w_idx.append(i)\n",
    "    no_in_batch = len(nonzero_w_idx)\n",
    "    nonzero_w_idx = np.array(nonzero_w_idx)\n",
    "    return no_in_batch, nonzero_w_idx\n",
    "\n",
    "\n",
    "def Find_argmax_AF(n, AF_pool):\n",
    "    '''\n",
    "    Using the entropy corresponding to each data point in D_pool, find 'n'\n",
    "    data points with highest entropy values\n",
    "    Inputs:\n",
    "        n: (int) Number of data points to be selected\n",
    "        AF_pool: numpy.ndarray where each element is entropy of D_pool data\n",
    "    Outputs:\n",
    "        arg_nmax: numpy.ndarray with index of 'n' data points with highest\n",
    "                  entropy values\n",
    "    '''\n",
    "    arg_nmax = np.argpartition(AF_pool,-n)[-n:]\n",
    "    return arg_nmax\n",
    "\n",
    "\n",
    "\n",
    "def Compute_Expec_Pred_proba(beta_samples, D_pool):\n",
    "    '''\n",
    "    Compute expected predicted probability w.r.t predicted probability (term 1 in equation 4)\n",
    "    Inputs:\n",
    "        beta_samples: numpy.ndarray (No_samples x No_features x No_class) parameter of Logistic reg. model\n",
    "        D_pool: numpy.ndarray where each row is a data in A.L. pool set\n",
    "    Outputs:\n",
    "        Expec_Pred_Proba: numpy.ndarray where each row is Expected entropy (Exp wrt Posterior) of D_pool data\n",
    "    '''\n",
    "    pred_prob = Predict_proba_4m_thetasamples(beta_samples, D_pool)\n",
    "    no_samples = pred_prob.shape[0]\n",
    "    N = pred_prob.shape[1]\n",
    "    no_classes = pred_prob.shape[2]\n",
    "    \n",
    "    Expec_Pred_Proba = np.zeros((no_samples,N))\n",
    "    for i in range(no_samples):\n",
    "        for j in range(N):\n",
    "            temp = 0.0\n",
    "            for k in range(no_classes):\n",
    "                temp += pred_prob[i,j,k] * np.log2(pred_prob[i,j,k])\n",
    "        Expec_Pred_Proba[i,j] = temp\n",
    "    return Expec_Pred_Proba\n",
    "\n",
    "\n",
    "def Compute_BBALSS_Loss(beta_samples, D_pool, model):\n",
    "    '''\n",
    "    \n",
    "    Inputs:\n",
    "        \n",
    "    Outputs:\n",
    "    \n",
    "    '''\n",
    "    no_beta_samples = beta_samples.shape[0]\n",
    "    no_features = beta_samples.shape[1]\n",
    "    no_classes = beta_samples.shape[2]\n",
    "    N = D_pool.shape[0]\n",
    "    \n",
    "    T_proba = PredictSoftClass(model, D_pool)\n",
    "    Ent = getEntropy(T_proba)\n",
    "    Expec_Pred_Proba = Compute_Expec_Pred_proba(beta_samples, D_pool)\n",
    "    BBALSS_Loss = np.zeros((no_beta_samples,N))\n",
    "    for i in range(no_beta_samples):\n",
    "        for j in range(N):\n",
    "            BBALSS_Loss[i,j] =  Expec_Pred_Proba[i,j] + Ent[j]\n",
    "    return BBALSS_Loss\n",
    "\n",
    "def Compute_BBALSS_Losshat(beta_samples, D_pool, model):\n",
    "    '''\n",
    "    \n",
    "    Inputs:\n",
    "        \n",
    "    Outputs:\n",
    "\n",
    "    '''\n",
    "    no_beta_samples = beta_samples.shape[0]\n",
    "    no_features = beta_samples.shape[1]\n",
    "    no_classes = beta_samples.shape[2]\n",
    "    N = D_pool.shape[0]\n",
    "    \n",
    "    T_proba = PredictSoftClass(model, D_pool)\n",
    "    Ent = getEntropy(T_proba)\n",
    "    Expec_Pred_Proba = Compute_Expec_Pred_proba(beta_samples, D_pool)\n",
    "    BBALSS_Losshat = np.zeros((no_beta_samples,N))\n",
    "    for i in range(no_beta_samples):\n",
    "        for j in range(N):\n",
    "            BBALSS_Losshat[i,j] = (1/np.sqrt(no_beta_samples))*(Expec_Pred_Proba[i,j] + Ent[j])\n",
    "    return BBALSS_Losshat\n",
    "\n",
    "def Inner_prod(a,b):\n",
    "    '''\n",
    "    \n",
    "    Inputs:\n",
    "        \n",
    "    Outputs:\n",
    "        \n",
    "    '''\n",
    "    c = np.dot(a, b)\n",
    "    return c\n",
    "\n",
    "def Compute_Acq_fn_ABC(diff, sigma_n_vec, BBALSS_Losshat):\n",
    "    '''\n",
    "    \n",
    "    Inputs:\n",
    "        \n",
    "    Outputs:\n",
    "        \n",
    "    '''\n",
    "    no_samples = BBALSS_Losshat.shape[0]\n",
    "    N = BBALSS_Losshat.shape[1]\n",
    "    Acq_fn_ABC = np.zeros(N)\n",
    "    for i in range(N):\n",
    "        t2 = (1/sigma_n_vec[i]) * BBALSS_Losshat[:,i]\n",
    "        Acq_fn_ABC[i] = Inner_prod(diff,t2)\n",
    "    return Acq_fn_ABC\n",
    "\n",
    "def Compute_sigma_n_vec(BBALSS_Losshat):\n",
    "    '''\n",
    "    \n",
    "    Inputs:\n",
    "        \n",
    "    Outputs:\n",
    "        \n",
    "    '''\n",
    "    no_samples = BBALSS_Losshat.shape[0]\n",
    "    N = BBALSS_Losshat.shape[1]\n",
    "    sigma_n_vec = np.ones(N)\n",
    "    for i in range(N):\n",
    "        sigma_n_vec[i] = Inner_prod(BBALSS_Losshat[:,i],BBALSS_Losshat[:,i])\n",
    "        sigma_n_vec[i] = np.sqrt(sigma_n_vec[i])\n",
    "    return sigma_n_vec\n",
    "\n",
    "def weighted_L(w,BBALSS_Losshat):\n",
    "    '''\n",
    "    Compute Acquisition function based on BALD Approach\n",
    "    Inputs:\n",
    "        \n",
    "        \n",
    "    Outputs:\n",
    "        \n",
    "    '''\n",
    "    no_samples = BBALSS_Losshat.shape[0]\n",
    "    N = BBALSS_Losshat.shape[1]\n",
    "    wL = np.zeros(no_samples)\n",
    "    for i in range(N):\n",
    "        wL += w[i]*BBALSS_Losshat[:,i]\n",
    "    return wL\n",
    "\n",
    "\n",
    "def ABC_FW(beta_samples, D_pool, model, batch_size):\n",
    "    '''\n",
    "    \n",
    "    Inputs:\n",
    "        \n",
    "        \n",
    "    Outputs:\n",
    "        \n",
    "    '''\n",
    "    no_beta_samples = beta_samples.shape[0]\n",
    "    no_features = beta_samples.shape[1]\n",
    "    no_classes = beta_samples.shape[2]\n",
    "    N = D_pool.shape[0]\n",
    "    \n",
    "    \n",
    "    BBALSS_Losshat = Compute_BBALSS_Losshat(beta_samples, D_pool, model)\n",
    "    sigma_n_vec = Compute_sigma_n_vec(BBALSS_Losshat)\n",
    "    L = np.sum(BBALSS_Losshat, axis = 1)\n",
    "    #print(L)\n",
    "    sigma_total = sum(sigma_n_vec)\n",
    "    w = np.zeros(N)\n",
    "    for i in range(batch_size):\n",
    "        diff = L - weighted_L(w,BBALSS_Losshat)\n",
    "        #print(diff)\n",
    "        Acq_fn_ABC = Compute_Acq_fn_ABC(diff, sigma_n_vec, BBALSS_Losshat)\n",
    "        arg_nmax = Find_argmax_AF(1, Acq_fn_ABC)\n",
    "        #print(arg_nmax)\n",
    "        #print(Acq_fn_ABC[arg_nmax[0]])\n",
    "        term1 = ((sigma_total/sigma_n_vec[arg_nmax[0]]) * BBALSS_Losshat[:,arg_nmax[0]]) - weighted_L(w,BBALSS_Losshat)\n",
    "        gamma_num = Inner_prod(term1,diff)\n",
    "        gamma_den = Inner_prod(term1,term1)\n",
    "        gamma = gamma_num/gamma_den\n",
    "        w[arg_nmax[0]] = (1-gamma)*w[arg_nmax[0]] + gamma*(sigma_total/sigma_n_vec[arg_nmax[0]])\n",
    "        \n",
    "    return w"
   ]
  },
  {
   "cell_type": "markdown",
   "metadata": {
    "id": "N9u-FuV830Bk"
   },
   "source": [
    "# Classification Data Generation and Splitting"
   ]
  },
  {
   "cell_type": "code",
   "execution_count": 3,
   "metadata": {
    "id": "q0GWz2F030Bl"
   },
   "outputs": [],
   "source": [
    "# Data Generation and Train, Test, AL Poolset creation\n",
    "no_classes = 3\n",
    "no_features = 5\n",
    "no_samples = 1500\n",
    "PCA_dim = 12\n",
    "# Generate Data\n",
    "#X, y = make_classification(n_samples=no_samples, n_features=no_features, n_informative=3, n_redundant=2, n_classes=no_classes, random_state=1)\n",
    "\n",
    "(X, y), (D_test, T_test) = mnist.load_data()\n",
    "X = Reduce_MNIST_dim(X, PCA_dim)\n",
    "D_test = Reduce_MNIST_dim(D_test,PCA_dim)\n",
    "\n",
    "# Split Generated Data for initial Training and the Left over part\n",
    "D_Train, D_pool, T_Train, T_pool = train_test_split(X, y, test_size=0.80, random_state=42)\n",
    "\n",
    "D_rej, D_pool, T_rej, T_pool = train_test_split(D_pool, T_pool, test_size=0.50, random_state=42)"
   ]
  },
  {
   "cell_type": "code",
   "execution_count": 4,
   "metadata": {},
   "outputs": [
    {
     "data": {
      "text/plain": [
       "(10000, 13)"
      ]
     },
     "execution_count": 4,
     "metadata": {},
     "output_type": "execute_result"
    }
   ],
   "source": [
    "D_test.shape"
   ]
  },
  {
   "cell_type": "markdown",
   "metadata": {
    "id": "OZPDySAr30Bl"
   },
   "source": [
    "# Initial Training of the Logistic Regression Model"
   ]
  },
  {
   "cell_type": "code",
   "execution_count": 5,
   "metadata": {
    "colab": {
     "base_uri": "https://localhost:8080/"
    },
    "executionInfo": {
     "elapsed": 5153,
     "status": "ok",
     "timestamp": 1621247462970,
     "user": {
      "displayName": "Jayanth N P",
      "photoUrl": "https://lh3.googleusercontent.com/a-/AOh14GiSAXxPuPU38VDX-lRnIXUNkn3BC7hH-HqE9X7XRA=s64",
      "userId": "12595123520231436373"
     },
     "user_tz": -330
    },
    "id": "PfK3_Ak_30Bm",
    "outputId": "ec5ee5cd-27c8-4ff3-d42b-4afea0eec91b"
   },
   "outputs": [
    {
     "name": "stderr",
     "output_type": "stream",
     "text": [
      "/home/user/anaconda3/lib/python3.8/site-packages/sklearn/linear_model/_logistic.py:763: ConvergenceWarning: lbfgs failed to converge (status=1):\n",
      "STOP: TOTAL NO. of ITERATIONS REACHED LIMIT.\n",
      "\n",
      "Increase the number of iterations (max_iter) or scale the data as shown in:\n",
      "    https://scikit-learn.org/stable/modules/preprocessing.html\n",
      "Please also refer to the documentation for alternative solver options:\n",
      "    https://scikit-learn.org/stable/modules/linear_model.html#logistic-regression\n",
      "  n_iter_i = _check_optimize_result(\n"
     ]
    },
    {
     "data": {
      "text/plain": [
       "LogisticRegression(multi_class='multinomial')"
      ]
     },
     "execution_count": 5,
     "metadata": {},
     "output_type": "execute_result"
    }
   ],
   "source": [
    "# Initial Training of data - Model => Logistic Regression\n",
    "model = LogisticRegression(multi_class='multinomial', solver='lbfgs')\n",
    "model.fit(D_Train, T_Train)\n"
   ]
  },
  {
   "cell_type": "markdown",
   "metadata": {
    "id": "uWqDdrEf30Bn"
   },
   "source": [
    "# Initial Testing of the Logistic Regression Model"
   ]
  },
  {
   "cell_type": "code",
   "execution_count": 6,
   "metadata": {
    "id": "LPf_FloR30Bn"
   },
   "outputs": [],
   "source": [
    "# Testing the initial LR model on TEST data\n",
    "T_test_mod_proba = np.zeros((len(D_test),no_classes))\n",
    "T_test_mod = np.zeros(len(D_test))\n",
    "for i in range(len(D_test)):\n",
    "    T_test_mod_proba = model.predict_proba(D_test)\n",
    "    T_test_mod= model.predict(D_test)\n",
    "\n",
    "\n",
    "acc = []\n",
    "acc.append(accuracy_score(T_test, T_test_mod))"
   ]
  },
  {
   "cell_type": "code",
   "execution_count": 7,
   "metadata": {},
   "outputs": [
    {
     "data": {
      "text/plain": [
       "[0.1466]"
      ]
     },
     "execution_count": 7,
     "metadata": {},
     "output_type": "execute_result"
    }
   ],
   "source": [
    "acc"
   ]
  },
  {
   "cell_type": "markdown",
   "metadata": {
    "id": "Uko8pWO330Bp"
   },
   "source": [
    "# Main Program: Overall Active Learning Process implementation"
   ]
  },
  {
   "cell_type": "code",
   "execution_count": 8,
   "metadata": {
    "colab": {
     "base_uri": "https://localhost:8080/"
    },
    "executionInfo": {
     "elapsed": 2155993,
     "status": "ok",
     "timestamp": 1621249943699,
     "user": {
      "displayName": "Jayanth N P",
      "photoUrl": "https://lh3.googleusercontent.com/a-/AOh14GiSAXxPuPU38VDX-lRnIXUNkn3BC7hH-HqE9X7XRA=s64",
      "userId": "12595123520231436373"
     },
     "user_tz": -330
    },
    "id": "oyJHImPY30Bq",
    "outputId": "2c83a2d3-d588-44bb-e256-d4702d59fd2a"
   },
   "outputs": [
    {
     "name": "stderr",
     "output_type": "stream",
     "text": [
      "<ipython-input-2-5f41da402814>:92: DeprecationWarning: `np.int` is a deprecated alias for the builtin `int`. To silence this warning, use `int` by itself. Doing this will not modify any behavior and is safe. When replacing `np.int`, you may wish to use e.g. `np.int64` or `np.int32` to specify the precision. If you wish to review your current use, check the release note link for additional information.\n",
      "Deprecated in NumPy 1.20; for more details and guidance: https://numpy.org/devdocs/release/1.20.0-notes.html#deprecations\n",
      "  T_Train = T_Train.astype(np.int)\n",
      "INFO:pystan:COMPILING THE C++ CODE FOR MODEL anon_model_16a4048a3c1979a5f7520751e90d6471 NOW.\n"
     ]
    },
    {
     "name": "stdout",
     "output_type": "stream",
     "text": [
      "1\n"
     ]
    },
    {
     "name": "stderr",
     "output_type": "stream",
     "text": [
      "<ipython-input-2-5f41da402814>:105: UserWarning: Pickling fit objects is an experimental feature!\n",
      "The relevant StanModel instance must be pickled along with this fit object.\n",
      "When unpickling the StanModel must be unpickled first.\n",
      "  pickle.dump({'model':sm, 'fit':fit},f)\n",
      "/home/user/anaconda3/lib/python3.8/site-packages/sklearn/linear_model/_logistic.py:763: ConvergenceWarning: lbfgs failed to converge (status=1):\n",
      "STOP: TOTAL NO. of ITERATIONS REACHED LIMIT.\n",
      "\n",
      "Increase the number of iterations (max_iter) or scale the data as shown in:\n",
      "    https://scikit-learn.org/stable/modules/preprocessing.html\n",
      "Please also refer to the documentation for alternative solver options:\n",
      "    https://scikit-learn.org/stable/modules/linear_model.html#logistic-regression\n",
      "  n_iter_i = _check_optimize_result(\n",
      "<ipython-input-2-5f41da402814>:92: DeprecationWarning: `np.int` is a deprecated alias for the builtin `int`. To silence this warning, use `int` by itself. Doing this will not modify any behavior and is safe. When replacing `np.int`, you may wish to use e.g. `np.int64` or `np.int32` to specify the precision. If you wish to review your current use, check the release note link for additional information.\n",
      "Deprecated in NumPy 1.20; for more details and guidance: https://numpy.org/devdocs/release/1.20.0-notes.html#deprecations\n",
      "  T_Train = T_Train.astype(np.int)\n",
      "INFO:pystan:COMPILING THE C++ CODE FOR MODEL anon_model_16a4048a3c1979a5f7520751e90d6471 NOW.\n"
     ]
    },
    {
     "name": "stdout",
     "output_type": "stream",
     "text": [
      "3\n"
     ]
    },
    {
     "name": "stderr",
     "output_type": "stream",
     "text": [
      "<ipython-input-2-5f41da402814>:105: UserWarning: Pickling fit objects is an experimental feature!\n",
      "The relevant StanModel instance must be pickled along with this fit object.\n",
      "When unpickling the StanModel must be unpickled first.\n",
      "  pickle.dump({'model':sm, 'fit':fit},f)\n",
      "/home/user/anaconda3/lib/python3.8/site-packages/sklearn/linear_model/_logistic.py:763: ConvergenceWarning: lbfgs failed to converge (status=1):\n",
      "STOP: TOTAL NO. of ITERATIONS REACHED LIMIT.\n",
      "\n",
      "Increase the number of iterations (max_iter) or scale the data as shown in:\n",
      "    https://scikit-learn.org/stable/modules/preprocessing.html\n",
      "Please also refer to the documentation for alternative solver options:\n",
      "    https://scikit-learn.org/stable/modules/linear_model.html#logistic-regression\n",
      "  n_iter_i = _check_optimize_result(\n",
      "<ipython-input-2-5f41da402814>:92: DeprecationWarning: `np.int` is a deprecated alias for the builtin `int`. To silence this warning, use `int` by itself. Doing this will not modify any behavior and is safe. When replacing `np.int`, you may wish to use e.g. `np.int64` or `np.int32` to specify the precision. If you wish to review your current use, check the release note link for additional information.\n",
      "Deprecated in NumPy 1.20; for more details and guidance: https://numpy.org/devdocs/release/1.20.0-notes.html#deprecations\n",
      "  T_Train = T_Train.astype(np.int)\n",
      "INFO:pystan:COMPILING THE C++ CODE FOR MODEL anon_model_16a4048a3c1979a5f7520751e90d6471 NOW.\n"
     ]
    },
    {
     "name": "stdout",
     "output_type": "stream",
     "text": [
      "5\n"
     ]
    },
    {
     "name": "stderr",
     "output_type": "stream",
     "text": [
      "<ipython-input-2-5f41da402814>:105: UserWarning: Pickling fit objects is an experimental feature!\n",
      "The relevant StanModel instance must be pickled along with this fit object.\n",
      "When unpickling the StanModel must be unpickled first.\n",
      "  pickle.dump({'model':sm, 'fit':fit},f)\n",
      "/home/user/anaconda3/lib/python3.8/site-packages/sklearn/linear_model/_logistic.py:763: ConvergenceWarning: lbfgs failed to converge (status=1):\n",
      "STOP: TOTAL NO. of ITERATIONS REACHED LIMIT.\n",
      "\n",
      "Increase the number of iterations (max_iter) or scale the data as shown in:\n",
      "    https://scikit-learn.org/stable/modules/preprocessing.html\n",
      "Please also refer to the documentation for alternative solver options:\n",
      "    https://scikit-learn.org/stable/modules/linear_model.html#logistic-regression\n",
      "  n_iter_i = _check_optimize_result(\n",
      "<ipython-input-2-5f41da402814>:92: DeprecationWarning: `np.int` is a deprecated alias for the builtin `int`. To silence this warning, use `int` by itself. Doing this will not modify any behavior and is safe. When replacing `np.int`, you may wish to use e.g. `np.int64` or `np.int32` to specify the precision. If you wish to review your current use, check the release note link for additional information.\n",
      "Deprecated in NumPy 1.20; for more details and guidance: https://numpy.org/devdocs/release/1.20.0-notes.html#deprecations\n",
      "  T_Train = T_Train.astype(np.int)\n",
      "INFO:pystan:COMPILING THE C++ CODE FOR MODEL anon_model_16a4048a3c1979a5f7520751e90d6471 NOW.\n"
     ]
    },
    {
     "name": "stdout",
     "output_type": "stream",
     "text": [
      "7\n"
     ]
    },
    {
     "name": "stderr",
     "output_type": "stream",
     "text": [
      "<ipython-input-2-5f41da402814>:105: UserWarning: Pickling fit objects is an experimental feature!\n",
      "The relevant StanModel instance must be pickled along with this fit object.\n",
      "When unpickling the StanModel must be unpickled first.\n",
      "  pickle.dump({'model':sm, 'fit':fit},f)\n",
      "/home/user/anaconda3/lib/python3.8/site-packages/sklearn/linear_model/_logistic.py:763: ConvergenceWarning: lbfgs failed to converge (status=1):\n",
      "STOP: TOTAL NO. of ITERATIONS REACHED LIMIT.\n",
      "\n",
      "Increase the number of iterations (max_iter) or scale the data as shown in:\n",
      "    https://scikit-learn.org/stable/modules/preprocessing.html\n",
      "Please also refer to the documentation for alternative solver options:\n",
      "    https://scikit-learn.org/stable/modules/linear_model.html#logistic-regression\n",
      "  n_iter_i = _check_optimize_result(\n",
      "<ipython-input-2-5f41da402814>:92: DeprecationWarning: `np.int` is a deprecated alias for the builtin `int`. To silence this warning, use `int` by itself. Doing this will not modify any behavior and is safe. When replacing `np.int`, you may wish to use e.g. `np.int64` or `np.int32` to specify the precision. If you wish to review your current use, check the release note link for additional information.\n",
      "Deprecated in NumPy 1.20; for more details and guidance: https://numpy.org/devdocs/release/1.20.0-notes.html#deprecations\n",
      "  T_Train = T_Train.astype(np.int)\n",
      "INFO:pystan:COMPILING THE C++ CODE FOR MODEL anon_model_16a4048a3c1979a5f7520751e90d6471 NOW.\n"
     ]
    },
    {
     "name": "stdout",
     "output_type": "stream",
     "text": [
      "9\n"
     ]
    },
    {
     "name": "stderr",
     "output_type": "stream",
     "text": [
      "<ipython-input-2-5f41da402814>:105: UserWarning: Pickling fit objects is an experimental feature!\n",
      "The relevant StanModel instance must be pickled along with this fit object.\n",
      "When unpickling the StanModel must be unpickled first.\n",
      "  pickle.dump({'model':sm, 'fit':fit},f)\n",
      "/home/user/anaconda3/lib/python3.8/site-packages/sklearn/linear_model/_logistic.py:763: ConvergenceWarning: lbfgs failed to converge (status=1):\n",
      "STOP: TOTAL NO. of ITERATIONS REACHED LIMIT.\n",
      "\n",
      "Increase the number of iterations (max_iter) or scale the data as shown in:\n",
      "    https://scikit-learn.org/stable/modules/preprocessing.html\n",
      "Please also refer to the documentation for alternative solver options:\n",
      "    https://scikit-learn.org/stable/modules/linear_model.html#logistic-regression\n",
      "  n_iter_i = _check_optimize_result(\n",
      "<ipython-input-2-5f41da402814>:92: DeprecationWarning: `np.int` is a deprecated alias for the builtin `int`. To silence this warning, use `int` by itself. Doing this will not modify any behavior and is safe. When replacing `np.int`, you may wish to use e.g. `np.int64` or `np.int32` to specify the precision. If you wish to review your current use, check the release note link for additional information.\n",
      "Deprecated in NumPy 1.20; for more details and guidance: https://numpy.org/devdocs/release/1.20.0-notes.html#deprecations\n",
      "  T_Train = T_Train.astype(np.int)\n",
      "INFO:pystan:COMPILING THE C++ CODE FOR MODEL anon_model_16a4048a3c1979a5f7520751e90d6471 NOW.\n"
     ]
    },
    {
     "name": "stdout",
     "output_type": "stream",
     "text": [
      "11\n"
     ]
    },
    {
     "name": "stderr",
     "output_type": "stream",
     "text": [
      "<ipython-input-2-5f41da402814>:105: UserWarning: Pickling fit objects is an experimental feature!\n",
      "The relevant StanModel instance must be pickled along with this fit object.\n",
      "When unpickling the StanModel must be unpickled first.\n",
      "  pickle.dump({'model':sm, 'fit':fit},f)\n",
      "/home/user/anaconda3/lib/python3.8/site-packages/sklearn/linear_model/_logistic.py:763: ConvergenceWarning: lbfgs failed to converge (status=1):\n",
      "STOP: TOTAL NO. of ITERATIONS REACHED LIMIT.\n",
      "\n",
      "Increase the number of iterations (max_iter) or scale the data as shown in:\n",
      "    https://scikit-learn.org/stable/modules/preprocessing.html\n",
      "Please also refer to the documentation for alternative solver options:\n",
      "    https://scikit-learn.org/stable/modules/linear_model.html#logistic-regression\n",
      "  n_iter_i = _check_optimize_result(\n",
      "<ipython-input-2-5f41da402814>:92: DeprecationWarning: `np.int` is a deprecated alias for the builtin `int`. To silence this warning, use `int` by itself. Doing this will not modify any behavior and is safe. When replacing `np.int`, you may wish to use e.g. `np.int64` or `np.int32` to specify the precision. If you wish to review your current use, check the release note link for additional information.\n",
      "Deprecated in NumPy 1.20; for more details and guidance: https://numpy.org/devdocs/release/1.20.0-notes.html#deprecations\n",
      "  T_Train = T_Train.astype(np.int)\n",
      "INFO:pystan:COMPILING THE C++ CODE FOR MODEL anon_model_16a4048a3c1979a5f7520751e90d6471 NOW.\n"
     ]
    },
    {
     "name": "stdout",
     "output_type": "stream",
     "text": [
      "13\n"
     ]
    },
    {
     "name": "stderr",
     "output_type": "stream",
     "text": [
      "<ipython-input-2-5f41da402814>:105: UserWarning: Pickling fit objects is an experimental feature!\n",
      "The relevant StanModel instance must be pickled along with this fit object.\n",
      "When unpickling the StanModel must be unpickled first.\n",
      "  pickle.dump({'model':sm, 'fit':fit},f)\n",
      "/home/user/anaconda3/lib/python3.8/site-packages/sklearn/linear_model/_logistic.py:763: ConvergenceWarning: lbfgs failed to converge (status=1):\n",
      "STOP: TOTAL NO. of ITERATIONS REACHED LIMIT.\n",
      "\n",
      "Increase the number of iterations (max_iter) or scale the data as shown in:\n",
      "    https://scikit-learn.org/stable/modules/preprocessing.html\n",
      "Please also refer to the documentation for alternative solver options:\n",
      "    https://scikit-learn.org/stable/modules/linear_model.html#logistic-regression\n",
      "  n_iter_i = _check_optimize_result(\n",
      "<ipython-input-2-5f41da402814>:92: DeprecationWarning: `np.int` is a deprecated alias for the builtin `int`. To silence this warning, use `int` by itself. Doing this will not modify any behavior and is safe. When replacing `np.int`, you may wish to use e.g. `np.int64` or `np.int32` to specify the precision. If you wish to review your current use, check the release note link for additional information.\n",
      "Deprecated in NumPy 1.20; for more details and guidance: https://numpy.org/devdocs/release/1.20.0-notes.html#deprecations\n",
      "  T_Train = T_Train.astype(np.int)\n",
      "INFO:pystan:COMPILING THE C++ CODE FOR MODEL anon_model_16a4048a3c1979a5f7520751e90d6471 NOW.\n"
     ]
    },
    {
     "name": "stdout",
     "output_type": "stream",
     "text": [
      "15\n"
     ]
    },
    {
     "name": "stderr",
     "output_type": "stream",
     "text": [
      "<ipython-input-2-5f41da402814>:105: UserWarning: Pickling fit objects is an experimental feature!\n",
      "The relevant StanModel instance must be pickled along with this fit object.\n",
      "When unpickling the StanModel must be unpickled first.\n",
      "  pickle.dump({'model':sm, 'fit':fit},f)\n",
      "/home/user/anaconda3/lib/python3.8/site-packages/sklearn/linear_model/_logistic.py:763: ConvergenceWarning: lbfgs failed to converge (status=1):\n",
      "STOP: TOTAL NO. of ITERATIONS REACHED LIMIT.\n",
      "\n",
      "Increase the number of iterations (max_iter) or scale the data as shown in:\n",
      "    https://scikit-learn.org/stable/modules/preprocessing.html\n",
      "Please also refer to the documentation for alternative solver options:\n",
      "    https://scikit-learn.org/stable/modules/linear_model.html#logistic-regression\n",
      "  n_iter_i = _check_optimize_result(\n",
      "<ipython-input-2-5f41da402814>:92: DeprecationWarning: `np.int` is a deprecated alias for the builtin `int`. To silence this warning, use `int` by itself. Doing this will not modify any behavior and is safe. When replacing `np.int`, you may wish to use e.g. `np.int64` or `np.int32` to specify the precision. If you wish to review your current use, check the release note link for additional information.\n",
      "Deprecated in NumPy 1.20; for more details and guidance: https://numpy.org/devdocs/release/1.20.0-notes.html#deprecations\n",
      "  T_Train = T_Train.astype(np.int)\n",
      "INFO:pystan:COMPILING THE C++ CODE FOR MODEL anon_model_16a4048a3c1979a5f7520751e90d6471 NOW.\n"
     ]
    },
    {
     "name": "stdout",
     "output_type": "stream",
     "text": [
      "17\n"
     ]
    },
    {
     "name": "stderr",
     "output_type": "stream",
     "text": [
      "<ipython-input-2-5f41da402814>:105: UserWarning: Pickling fit objects is an experimental feature!\n",
      "The relevant StanModel instance must be pickled along with this fit object.\n",
      "When unpickling the StanModel must be unpickled first.\n",
      "  pickle.dump({'model':sm, 'fit':fit},f)\n",
      "/home/user/anaconda3/lib/python3.8/site-packages/sklearn/linear_model/_logistic.py:763: ConvergenceWarning: lbfgs failed to converge (status=1):\n",
      "STOP: TOTAL NO. of ITERATIONS REACHED LIMIT.\n",
      "\n",
      "Increase the number of iterations (max_iter) or scale the data as shown in:\n",
      "    https://scikit-learn.org/stable/modules/preprocessing.html\n",
      "Please also refer to the documentation for alternative solver options:\n",
      "    https://scikit-learn.org/stable/modules/linear_model.html#logistic-regression\n",
      "  n_iter_i = _check_optimize_result(\n",
      "<ipython-input-2-5f41da402814>:92: DeprecationWarning: `np.int` is a deprecated alias for the builtin `int`. To silence this warning, use `int` by itself. Doing this will not modify any behavior and is safe. When replacing `np.int`, you may wish to use e.g. `np.int64` or `np.int32` to specify the precision. If you wish to review your current use, check the release note link for additional information.\n",
      "Deprecated in NumPy 1.20; for more details and guidance: https://numpy.org/devdocs/release/1.20.0-notes.html#deprecations\n",
      "  T_Train = T_Train.astype(np.int)\n",
      "INFO:pystan:COMPILING THE C++ CODE FOR MODEL anon_model_16a4048a3c1979a5f7520751e90d6471 NOW.\n"
     ]
    },
    {
     "name": "stdout",
     "output_type": "stream",
     "text": [
      "19\n"
     ]
    },
    {
     "name": "stderr",
     "output_type": "stream",
     "text": [
      "<ipython-input-2-5f41da402814>:105: UserWarning: Pickling fit objects is an experimental feature!\n",
      "The relevant StanModel instance must be pickled along with this fit object.\n",
      "When unpickling the StanModel must be unpickled first.\n",
      "  pickle.dump({'model':sm, 'fit':fit},f)\n",
      "/home/user/anaconda3/lib/python3.8/site-packages/sklearn/linear_model/_logistic.py:763: ConvergenceWarning: lbfgs failed to converge (status=1):\n",
      "STOP: TOTAL NO. of ITERATIONS REACHED LIMIT.\n",
      "\n",
      "Increase the number of iterations (max_iter) or scale the data as shown in:\n",
      "    https://scikit-learn.org/stable/modules/preprocessing.html\n",
      "Please also refer to the documentation for alternative solver options:\n",
      "    https://scikit-learn.org/stable/modules/linear_model.html#logistic-regression\n",
      "  n_iter_i = _check_optimize_result(\n",
      "<ipython-input-2-5f41da402814>:92: DeprecationWarning: `np.int` is a deprecated alias for the builtin `int`. To silence this warning, use `int` by itself. Doing this will not modify any behavior and is safe. When replacing `np.int`, you may wish to use e.g. `np.int64` or `np.int32` to specify the precision. If you wish to review your current use, check the release note link for additional information.\n",
      "Deprecated in NumPy 1.20; for more details and guidance: https://numpy.org/devdocs/release/1.20.0-notes.html#deprecations\n",
      "  T_Train = T_Train.astype(np.int)\n",
      "INFO:pystan:COMPILING THE C++ CODE FOR MODEL anon_model_16a4048a3c1979a5f7520751e90d6471 NOW.\n"
     ]
    },
    {
     "name": "stdout",
     "output_type": "stream",
     "text": [
      "21\n"
     ]
    },
    {
     "name": "stderr",
     "output_type": "stream",
     "text": [
      "<ipython-input-2-5f41da402814>:105: UserWarning: Pickling fit objects is an experimental feature!\n",
      "The relevant StanModel instance must be pickled along with this fit object.\n",
      "When unpickling the StanModel must be unpickled first.\n",
      "  pickle.dump({'model':sm, 'fit':fit},f)\n",
      "/home/user/anaconda3/lib/python3.8/site-packages/sklearn/linear_model/_logistic.py:763: ConvergenceWarning: lbfgs failed to converge (status=1):\n",
      "STOP: TOTAL NO. of ITERATIONS REACHED LIMIT.\n",
      "\n",
      "Increase the number of iterations (max_iter) or scale the data as shown in:\n",
      "    https://scikit-learn.org/stable/modules/preprocessing.html\n",
      "Please also refer to the documentation for alternative solver options:\n",
      "    https://scikit-learn.org/stable/modules/linear_model.html#logistic-regression\n",
      "  n_iter_i = _check_optimize_result(\n",
      "<ipython-input-2-5f41da402814>:92: DeprecationWarning: `np.int` is a deprecated alias for the builtin `int`. To silence this warning, use `int` by itself. Doing this will not modify any behavior and is safe. When replacing `np.int`, you may wish to use e.g. `np.int64` or `np.int32` to specify the precision. If you wish to review your current use, check the release note link for additional information.\n",
      "Deprecated in NumPy 1.20; for more details and guidance: https://numpy.org/devdocs/release/1.20.0-notes.html#deprecations\n",
      "  T_Train = T_Train.astype(np.int)\n",
      "INFO:pystan:COMPILING THE C++ CODE FOR MODEL anon_model_16a4048a3c1979a5f7520751e90d6471 NOW.\n"
     ]
    },
    {
     "name": "stdout",
     "output_type": "stream",
     "text": [
      "23\n"
     ]
    },
    {
     "name": "stderr",
     "output_type": "stream",
     "text": [
      "<ipython-input-2-5f41da402814>:105: UserWarning: Pickling fit objects is an experimental feature!\n",
      "The relevant StanModel instance must be pickled along with this fit object.\n",
      "When unpickling the StanModel must be unpickled first.\n",
      "  pickle.dump({'model':sm, 'fit':fit},f)\n",
      "/home/user/anaconda3/lib/python3.8/site-packages/sklearn/linear_model/_logistic.py:763: ConvergenceWarning: lbfgs failed to converge (status=1):\n",
      "STOP: TOTAL NO. of ITERATIONS REACHED LIMIT.\n",
      "\n",
      "Increase the number of iterations (max_iter) or scale the data as shown in:\n",
      "    https://scikit-learn.org/stable/modules/preprocessing.html\n",
      "Please also refer to the documentation for alternative solver options:\n",
      "    https://scikit-learn.org/stable/modules/linear_model.html#logistic-regression\n",
      "  n_iter_i = _check_optimize_result(\n",
      "<ipython-input-2-5f41da402814>:92: DeprecationWarning: `np.int` is a deprecated alias for the builtin `int`. To silence this warning, use `int` by itself. Doing this will not modify any behavior and is safe. When replacing `np.int`, you may wish to use e.g. `np.int64` or `np.int32` to specify the precision. If you wish to review your current use, check the release note link for additional information.\n",
      "Deprecated in NumPy 1.20; for more details and guidance: https://numpy.org/devdocs/release/1.20.0-notes.html#deprecations\n",
      "  T_Train = T_Train.astype(np.int)\n",
      "INFO:pystan:COMPILING THE C++ CODE FOR MODEL anon_model_16a4048a3c1979a5f7520751e90d6471 NOW.\n"
     ]
    },
    {
     "name": "stdout",
     "output_type": "stream",
     "text": [
      "25\n"
     ]
    },
    {
     "name": "stderr",
     "output_type": "stream",
     "text": [
      "<ipython-input-2-5f41da402814>:105: UserWarning: Pickling fit objects is an experimental feature!\n",
      "The relevant StanModel instance must be pickled along with this fit object.\n",
      "When unpickling the StanModel must be unpickled first.\n",
      "  pickle.dump({'model':sm, 'fit':fit},f)\n",
      "/home/user/anaconda3/lib/python3.8/site-packages/sklearn/linear_model/_logistic.py:763: ConvergenceWarning: lbfgs failed to converge (status=1):\n",
      "STOP: TOTAL NO. of ITERATIONS REACHED LIMIT.\n",
      "\n",
      "Increase the number of iterations (max_iter) or scale the data as shown in:\n",
      "    https://scikit-learn.org/stable/modules/preprocessing.html\n",
      "Please also refer to the documentation for alternative solver options:\n",
      "    https://scikit-learn.org/stable/modules/linear_model.html#logistic-regression\n",
      "  n_iter_i = _check_optimize_result(\n",
      "<ipython-input-2-5f41da402814>:92: DeprecationWarning: `np.int` is a deprecated alias for the builtin `int`. To silence this warning, use `int` by itself. Doing this will not modify any behavior and is safe. When replacing `np.int`, you may wish to use e.g. `np.int64` or `np.int32` to specify the precision. If you wish to review your current use, check the release note link for additional information.\n",
      "Deprecated in NumPy 1.20; for more details and guidance: https://numpy.org/devdocs/release/1.20.0-notes.html#deprecations\n",
      "  T_Train = T_Train.astype(np.int)\n",
      "INFO:pystan:COMPILING THE C++ CODE FOR MODEL anon_model_16a4048a3c1979a5f7520751e90d6471 NOW.\n"
     ]
    },
    {
     "name": "stdout",
     "output_type": "stream",
     "text": [
      "27\n"
     ]
    },
    {
     "name": "stderr",
     "output_type": "stream",
     "text": [
      "<ipython-input-2-5f41da402814>:105: UserWarning: Pickling fit objects is an experimental feature!\n",
      "The relevant StanModel instance must be pickled along with this fit object.\n",
      "When unpickling the StanModel must be unpickled first.\n",
      "  pickle.dump({'model':sm, 'fit':fit},f)\n"
     ]
    },
    {
     "ename": "KeyboardInterrupt",
     "evalue": "",
     "output_type": "error",
     "traceback": [
      "\u001b[0;31m---------------------------------------------------------------------------\u001b[0m",
      "\u001b[0;31mKeyboardInterrupt\u001b[0m                         Traceback (most recent call last)",
      "\u001b[0;32m<ipython-input-8-4713fe072377>\u001b[0m in \u001b[0;36m<module>\u001b[0;34m\u001b[0m\n\u001b[1;32m      7\u001b[0m     \u001b[0mprint\u001b[0m\u001b[0;34m(\u001b[0m\u001b[0mi\u001b[0m\u001b[0;34m)\u001b[0m\u001b[0;34m\u001b[0m\u001b[0;34m\u001b[0m\u001b[0m\n\u001b[1;32m      8\u001b[0m     \u001b[0mparams\u001b[0m\u001b[0;34m,\u001b[0m \u001b[0mfit\u001b[0m\u001b[0;34m,\u001b[0m \u001b[0msm\u001b[0m \u001b[0;34m=\u001b[0m \u001b[0mCreate_Fit_Save_Extract_StanModel\u001b[0m\u001b[0;34m(\u001b[0m\u001b[0mno_classes\u001b[0m\u001b[0;34m,\u001b[0m \u001b[0mD_Train\u001b[0m\u001b[0;34m,\u001b[0m \u001b[0mT_Train\u001b[0m\u001b[0;34m,\u001b[0m\u001b[0;34m'my_model.stan'\u001b[0m\u001b[0;34m)\u001b[0m\u001b[0;34m\u001b[0m\u001b[0;34m\u001b[0m\u001b[0m\n\u001b[0;32m----> 9\u001b[0;31m     \u001b[0mw\u001b[0m \u001b[0;34m=\u001b[0m \u001b[0mABC_FW\u001b[0m\u001b[0;34m(\u001b[0m\u001b[0mparams\u001b[0m\u001b[0;34m[\u001b[0m\u001b[0;34m'beta'\u001b[0m\u001b[0;34m]\u001b[0m\u001b[0;34m,\u001b[0m \u001b[0mD_pool\u001b[0m\u001b[0;34m,\u001b[0m \u001b[0mmodel\u001b[0m\u001b[0;34m,\u001b[0m \u001b[0mbatch_size\u001b[0m\u001b[0;34m)\u001b[0m\u001b[0;34m\u001b[0m\u001b[0;34m\u001b[0m\u001b[0m\n\u001b[0m\u001b[1;32m     10\u001b[0m \u001b[0;34m\u001b[0m\u001b[0m\n\u001b[1;32m     11\u001b[0m     \u001b[0mno_in_batch\u001b[0m\u001b[0;34m,\u001b[0m \u001b[0mnonzero_w_idx\u001b[0m \u001b[0;34m=\u001b[0m \u001b[0mFind_nonzero_w\u001b[0m\u001b[0;34m(\u001b[0m\u001b[0mw\u001b[0m\u001b[0;34m)\u001b[0m\u001b[0;34m\u001b[0m\u001b[0;34m\u001b[0m\u001b[0m\n",
      "\u001b[0;32m<ipython-input-2-5f41da402814>\u001b[0m in \u001b[0;36mABC_FW\u001b[0;34m(beta_samples, D_pool, model, batch_size)\u001b[0m\n\u001b[1;32m    403\u001b[0m \u001b[0;34m\u001b[0m\u001b[0m\n\u001b[1;32m    404\u001b[0m \u001b[0;34m\u001b[0m\u001b[0m\n\u001b[0;32m--> 405\u001b[0;31m     \u001b[0mBBALSS_Losshat\u001b[0m \u001b[0;34m=\u001b[0m \u001b[0mCompute_BBALSS_Losshat\u001b[0m\u001b[0;34m(\u001b[0m\u001b[0mbeta_samples\u001b[0m\u001b[0;34m,\u001b[0m \u001b[0mD_pool\u001b[0m\u001b[0;34m,\u001b[0m \u001b[0mmodel\u001b[0m\u001b[0;34m)\u001b[0m\u001b[0;34m\u001b[0m\u001b[0;34m\u001b[0m\u001b[0m\n\u001b[0m\u001b[1;32m    406\u001b[0m     \u001b[0msigma_n_vec\u001b[0m \u001b[0;34m=\u001b[0m \u001b[0mCompute_sigma_n_vec\u001b[0m\u001b[0;34m(\u001b[0m\u001b[0mBBALSS_Losshat\u001b[0m\u001b[0;34m)\u001b[0m\u001b[0;34m\u001b[0m\u001b[0;34m\u001b[0m\u001b[0m\n\u001b[1;32m    407\u001b[0m     \u001b[0mL\u001b[0m \u001b[0;34m=\u001b[0m \u001b[0mnp\u001b[0m\u001b[0;34m.\u001b[0m\u001b[0msum\u001b[0m\u001b[0;34m(\u001b[0m\u001b[0mBBALSS_Losshat\u001b[0m\u001b[0;34m,\u001b[0m \u001b[0maxis\u001b[0m \u001b[0;34m=\u001b[0m \u001b[0;36m1\u001b[0m\u001b[0;34m)\u001b[0m\u001b[0;34m\u001b[0m\u001b[0;34m\u001b[0m\u001b[0m\n",
      "\u001b[0;32m<ipython-input-2-5f41da402814>\u001b[0m in \u001b[0;36mCompute_BBALSS_Losshat\u001b[0;34m(beta_samples, D_pool, model)\u001b[0m\n\u001b[1;32m    321\u001b[0m     \u001b[0mT_proba\u001b[0m \u001b[0;34m=\u001b[0m \u001b[0mPredictSoftClass\u001b[0m\u001b[0;34m(\u001b[0m\u001b[0mmodel\u001b[0m\u001b[0;34m,\u001b[0m \u001b[0mD_pool\u001b[0m\u001b[0;34m)\u001b[0m\u001b[0;34m\u001b[0m\u001b[0;34m\u001b[0m\u001b[0m\n\u001b[1;32m    322\u001b[0m     \u001b[0mEnt\u001b[0m \u001b[0;34m=\u001b[0m \u001b[0mgetEntropy\u001b[0m\u001b[0;34m(\u001b[0m\u001b[0mT_proba\u001b[0m\u001b[0;34m)\u001b[0m\u001b[0;34m\u001b[0m\u001b[0;34m\u001b[0m\u001b[0m\n\u001b[0;32m--> 323\u001b[0;31m     \u001b[0mExpec_Pred_Proba\u001b[0m \u001b[0;34m=\u001b[0m \u001b[0mCompute_Expec_Pred_proba\u001b[0m\u001b[0;34m(\u001b[0m\u001b[0mbeta_samples\u001b[0m\u001b[0;34m,\u001b[0m \u001b[0mD_pool\u001b[0m\u001b[0;34m)\u001b[0m\u001b[0;34m\u001b[0m\u001b[0;34m\u001b[0m\u001b[0m\n\u001b[0m\u001b[1;32m    324\u001b[0m     \u001b[0mBBALSS_Losshat\u001b[0m \u001b[0;34m=\u001b[0m \u001b[0mnp\u001b[0m\u001b[0;34m.\u001b[0m\u001b[0mzeros\u001b[0m\u001b[0;34m(\u001b[0m\u001b[0;34m(\u001b[0m\u001b[0mno_beta_samples\u001b[0m\u001b[0;34m,\u001b[0m\u001b[0mN\u001b[0m\u001b[0;34m)\u001b[0m\u001b[0;34m)\u001b[0m\u001b[0;34m\u001b[0m\u001b[0;34m\u001b[0m\u001b[0m\n\u001b[1;32m    325\u001b[0m     \u001b[0;32mfor\u001b[0m \u001b[0mi\u001b[0m \u001b[0;32min\u001b[0m \u001b[0mrange\u001b[0m\u001b[0;34m(\u001b[0m\u001b[0mno_beta_samples\u001b[0m\u001b[0;34m)\u001b[0m\u001b[0;34m:\u001b[0m\u001b[0;34m\u001b[0m\u001b[0;34m\u001b[0m\u001b[0m\n",
      "\u001b[0;32m<ipython-input-2-5f41da402814>\u001b[0m in \u001b[0;36mCompute_Expec_Pred_proba\u001b[0;34m(beta_samples, D_pool)\u001b[0m\n\u001b[1;32m    279\u001b[0m             \u001b[0mtemp\u001b[0m \u001b[0;34m=\u001b[0m \u001b[0;36m0.0\u001b[0m\u001b[0;34m\u001b[0m\u001b[0;34m\u001b[0m\u001b[0m\n\u001b[1;32m    280\u001b[0m             \u001b[0;32mfor\u001b[0m \u001b[0mk\u001b[0m \u001b[0;32min\u001b[0m \u001b[0mrange\u001b[0m\u001b[0;34m(\u001b[0m\u001b[0mno_classes\u001b[0m\u001b[0;34m)\u001b[0m\u001b[0;34m:\u001b[0m\u001b[0;34m\u001b[0m\u001b[0;34m\u001b[0m\u001b[0m\n\u001b[0;32m--> 281\u001b[0;31m                 \u001b[0mtemp\u001b[0m \u001b[0;34m+=\u001b[0m \u001b[0mpred_prob\u001b[0m\u001b[0;34m[\u001b[0m\u001b[0mi\u001b[0m\u001b[0;34m,\u001b[0m\u001b[0mj\u001b[0m\u001b[0;34m,\u001b[0m\u001b[0mk\u001b[0m\u001b[0;34m]\u001b[0m \u001b[0;34m*\u001b[0m \u001b[0mnp\u001b[0m\u001b[0;34m.\u001b[0m\u001b[0mlog2\u001b[0m\u001b[0;34m(\u001b[0m\u001b[0mpred_prob\u001b[0m\u001b[0;34m[\u001b[0m\u001b[0mi\u001b[0m\u001b[0;34m,\u001b[0m\u001b[0mj\u001b[0m\u001b[0;34m,\u001b[0m\u001b[0mk\u001b[0m\u001b[0;34m]\u001b[0m\u001b[0;34m)\u001b[0m\u001b[0;34m\u001b[0m\u001b[0;34m\u001b[0m\u001b[0m\n\u001b[0m\u001b[1;32m    282\u001b[0m         \u001b[0mExpec_Pred_Proba\u001b[0m\u001b[0;34m[\u001b[0m\u001b[0mi\u001b[0m\u001b[0;34m,\u001b[0m\u001b[0mj\u001b[0m\u001b[0;34m]\u001b[0m \u001b[0;34m=\u001b[0m \u001b[0mtemp\u001b[0m\u001b[0;34m\u001b[0m\u001b[0;34m\u001b[0m\u001b[0m\n\u001b[1;32m    283\u001b[0m     \u001b[0;32mreturn\u001b[0m \u001b[0mExpec_Pred_Proba\u001b[0m\u001b[0;34m\u001b[0m\u001b[0;34m\u001b[0m\u001b[0m\n",
      "\u001b[0;31mKeyboardInterrupt\u001b[0m: "
     ]
    }
   ],
   "source": [
    "\n",
    "\n",
    "batch_size = 3\n",
    "AL_bound = 300\n",
    "no_select = 2\n",
    "select_count = []\n",
    "i = 1\n",
    "while i <= AL_bound:\n",
    "    print(i)\n",
    "    params, fit, sm = Create_Fit_Save_Extract_StanModel(no_classes, D_Train, T_Train,'my_model.stan')\n",
    "    w = ABC_FW(params['beta'], D_pool, model, batch_size)\n",
    "    \n",
    "    no_in_batch, nonzero_w_idx = Find_nonzero_w(w)\n",
    "\n",
    "    D_select, T_select, D_pool, T_pool = PicknDelete_4mPool(nonzero_w_idx, D_pool, T_pool)\n",
    "    D_Train, T_Train = Add_2Train(D_select, T_select, D_Train, T_Train)\n",
    "    model.fit(D_Train, T_Train)\n",
    "        \n",
    "    T_test_mod_proba = PredictSoftClass(model, D_test)\n",
    "    T_test_mod= PredictHardClass(model, D_test)\n",
    "        \n",
    "    acc.append(accuracy_score(T_test, T_test_mod))\n",
    "\n",
    "    i = i+no_in_batch\n",
    "    select_count.append(i)\n"
   ]
  },
  {
   "cell_type": "markdown",
   "metadata": {
    "id": "JbRYBO2T30Br"
   },
   "source": [
    "# Plotting the Accuracy Graph"
   ]
  },
  {
   "cell_type": "code",
   "execution_count": 9,
   "metadata": {
    "colab": {
     "base_uri": "https://localhost:8080/",
     "height": 367
    },
    "executionInfo": {
     "elapsed": 1040,
     "status": "ok",
     "timestamp": 1621250778516,
     "user": {
      "displayName": "Jayanth N P",
      "photoUrl": "https://lh3.googleusercontent.com/a-/AOh14GiSAXxPuPU38VDX-lRnIXUNkn3BC7hH-HqE9X7XRA=s64",
      "userId": "12595123520231436373"
     },
     "user_tz": -330
    },
    "id": "TtnTfRpE30Bs",
    "outputId": "99b4927a-3cd2-4e87-93f1-ec8fc7c0c0ee"
   },
   "outputs": [
    {
     "data": {
      "text/plain": [
       "Text(0, 0.5, 'Accuracy')"
      ]
     },
     "execution_count": 9,
     "metadata": {},
     "output_type": "execute_result"
    },
    {
     "data": {
      "image/png": "[encoded data removed]",
      "text/plain": [
       "<Figure size 720x360 with 1 Axes>"
      ]
     },
     "metadata": {
      "needs_background": "light"
     },
     "output_type": "display_data"
    }
   ],
   "source": [
    "fig = plt.figure(figsize=(10,5))\n",
    "plt.grid(True, which =\"both\")\n",
    "plt.plot(select_count, acc[0:-1])\n",
    "plt.plot(select_count, [acc[0]]*len(select_count), '--')\n",
    "plt.legend(['ACS-FW', 'Baseline Training'])\n",
    "plt.title('Test Accuracy')\n",
    "plt.xlabel('Increase in samples')\n",
    "plt.ylabel('Accuracy')"
   ]
  },
  {
   "cell_type": "markdown",
   "metadata": {
    "id": "NH3nSc-O30Bt"
   },
   "source": [
    "# Summary of the Posterior Distribution of the paramaters \n",
    "(computed using PYSTAN)"
   ]
  },
  {
   "cell_type": "code",
   "execution_count": null,
   "metadata": {
    "colab": {
     "base_uri": "https://localhost:8080/"
    },
    "executionInfo": {
     "elapsed": 706,
     "status": "ok",
     "timestamp": 1621250148627,
     "user": {
      "displayName": "Jayanth N P",
      "photoUrl": "https://lh3.googleusercontent.com/a-/AOh14GiSAXxPuPU38VDX-lRnIXUNkn3BC7hH-HqE9X7XRA=s64",
      "userId": "12595123520231436373"
     },
     "user_tz": -330
    },
    "id": "daDYpsZ530Bu",
    "outputId": "0cf960a6-f563-4ede-f371-c72fa1c0e114"
   },
   "outputs": [
    {
     "name": "stdout",
     "output_type": "stream",
     "text": [
      "Inference for Stan model: anon_model_16a4048a3c1979a5f7520751e90d6471.\n",
      "2 chains, each with iter=1000; warmup=500; thin=1; \n",
      "post-warmup draws per chain=500, total post-warmup draws=1000.\n",
      "\n",
      "            mean se_mean     sd   2.5%    25%    50%    75%  97.5%  n_eff   Rhat\n",
      "beta[1,1]   -3.4    2.69  26.83 -57.14 -22.09  -2.86  14.19  47.68     99   1.01\n",
      "beta[2,1]   0.39    1.32  12.81 -25.89  -7.89   0.54   9.34  23.81     94   1.01\n",
      "beta[3,1]   4.32    3.61  38.21 -64.94 -22.34   3.89  29.53  82.84    112   1.01\n",
      "beta[4,1]  -4.25    2.33  38.73 -76.82 -29.37  -5.74  20.75  76.19    277   1.01\n",
      "beta[5,1]  -4.56    3.04  31.27 -66.03 -26.71  -4.61  15.93  57.99    106   1.01\n",
      "beta[1,2]  -0.56    2.17  26.79 -53.87 -18.82  -0.33  17.76  53.19    152    1.0\n",
      "beta[2,2]   0.75    0.97  12.32 -24.05  -7.36   1.51    8.7  24.88    161    1.0\n",
      "beta[3,2]  -2.52    2.67  36.18 -76.26  -27.8  -3.08  19.97  72.89    184   1.01\n",
      "beta[4,2]  -1.86    2.92  39.56 -79.67  -29.7  -1.99  24.81  75.25    184   1.01\n",
      "beta[5,2]   0.09    2.58   31.6 -61.54 -22.06    1.3  22.05  63.24    150    1.0\n",
      "beta[1,3]    0.4    2.35  26.74 -52.98 -18.06   0.56  18.72  52.13    129   1.03\n",
      "beta[2,3]  -1.48    1.11  12.45  -26.0  -9.86  -1.53   6.78  22.51    127   1.02\n",
      "beta[3,3]   1.65    2.88  37.26 -71.71 -23.65    4.0  27.15  75.95    167   1.01\n",
      "beta[4,3]   2.78    2.33  40.92 -80.28 -24.77   3.19  28.09  82.14    309   1.01\n",
      "beta[5,3]   0.93    2.69  31.55 -59.06 -20.73   1.06  23.24  63.41    137   1.03\n",
      "lp__      -158.6    0.17   2.79 -164.9 -160.1 -158.2 -156.6 -154.1    260    1.0\n",
      "\n",
      "Samples were drawn using NUTS at Mon May 17 11:11:55 2021.\n",
      "For each parameter, n_eff is a crude measure of effective sample size,\n",
      "and Rhat is the potential scale reduction factor on split chains (at \n",
      "convergence, Rhat=1).\n"
     ]
    }
   ],
   "source": [
    "print(fit)"
   ]
  },
  {
   "cell_type": "markdown",
   "metadata": {
    "id": "RmLm17Ie30Bu"
   },
   "source": [
    "# Plot of the Posterior Distribution of the paramaters ($\\beta$)"
   ]
  },
  {
   "cell_type": "code",
   "execution_count": null,
   "metadata": {
    "colab": {
     "base_uri": "https://localhost:8080/",
     "height": 562
    },
    "executionInfo": {
     "elapsed": 2503,
     "status": "ok",
     "timestamp": 1621250151693,
     "user": {
      "displayName": "Jayanth N P",
      "photoUrl": "https://lh3.googleusercontent.com/a-/AOh14GiSAXxPuPU38VDX-lRnIXUNkn3BC7hH-HqE9X7XRA=s64",
      "userId": "12595123520231436373"
     },
     "user_tz": -330
    },
    "id": "NLv9ockF30Bv",
    "outputId": "8e9db1bd-fef6-4572-e2f0-7d7637df977f"
   },
   "outputs": [
    {
     "name": "stderr",
     "output_type": "stream",
     "text": [
      "WARNING:pystan:Deprecation warning. PyStan plotting deprecated, use ArviZ library (Python 3.5+). `pip install arviz`; `arviz.plot_trace(fit)`)\n"
     ]
    },
    {
     "data": {
      "image/png": "[encoded data removed]",
      "text/plain": [
       "<Figure size 432x288 with 2 Axes>"
      ]
     },
     "execution_count": 11,
     "metadata": {
      "tags": []
     },
     "output_type": "execute_result"
    },
    {
     "data": {
      "image/png": "[encoded data removed]",
      "text/plain": [
       "<Figure size 432x288 with 2 Axes>"
      ]
     },
     "metadata": {
      "needs_background": "light",
      "tags": []
     },
     "output_type": "display_data"
    }
   ],
   "source": [
    "fit.plot()"
   ]
  },
  {
   "cell_type": "code",
   "execution_count": null,
   "metadata": {
    "colab": {
     "base_uri": "https://localhost:8080/"
    },
    "executionInfo": {
     "elapsed": 1092,
     "status": "ok",
     "timestamp": 1621250703378,
     "user": {
      "displayName": "Jayanth N P",
      "photoUrl": "https://lh3.googleusercontent.com/a-/AOh14GiSAXxPuPU38VDX-lRnIXUNkn3BC7hH-HqE9X7XRA=s64",
      "userId": "12595123520231436373"
     },
     "user_tz": -330
    },
    "id": "DcszEFxF4otT",
    "outputId": "7364ac38-ae5d-4793-f68b-9cc304a593d7"
   },
   "outputs": [
    {
     "data": {
      "text/plain": [
       "19"
      ]
     },
     "execution_count": 18,
     "metadata": {
      "tags": []
     },
     "output_type": "execute_result"
    }
   ],
   "source": []
  },
  {
   "cell_type": "code",
   "execution_count": null,
   "metadata": {
    "id": "y9ZMkMvuENIr"
   },
   "outputs": [],
   "source": []
  }
 ],
 "metadata": {
  "colab": {
   "collapsed_sections": [],
   "name": "BB_AL.ipynb",
   "provenance": []
  },
  "kernelspec": {
   "display_name": "Python 3",
   "language": "python",
   "name": "python3"
  },
  "language_info": {
   "codemirror_mode": {
    "name": "ipython",
    "version": 3
   },
   "file_extension": ".py",
   "mimetype": "text/x-python",
   "name": "python",
   "nbconvert_exporter": "python",
   "pygments_lexer": "ipython3",
   "version": "3.8.5"
  }
 },
 "nbformat": 4,
 "nbformat_minor": 1
}
