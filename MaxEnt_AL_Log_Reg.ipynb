{
 "cells": [
  {
   "cell_type": "code",
   "execution_count": 37,
   "metadata": {},
   "outputs": [],
   "source": [
    "import pystan \n",
    "import numpy as np\n",
    "import matplotlib.pyplot as plt\n",
    "import arviz as av\n",
    "import pickle\n",
    "from scipy.stats import entropy\n",
    "from sklearn.datasets import make_classification\n",
    "from sklearn.model_selection import train_test_split\n",
    "from sklearn.linear_model import LogisticRegression\n",
    "from sklearn.preprocessing import OneHotEncoder\n",
    "from sklearn.metrics import confusion_matrix\n",
    "from sklearn.metrics import accuracy_score"
   ]
  },
  {
   "cell_type": "markdown",
   "metadata": {},
   "source": [
    "# Custom Function "
   ]
  },
  {
   "cell_type": "code",
   "execution_count": 49,
   "metadata": {},
   "outputs": [],
   "source": [
    "def PredictHardClass(model, D_pool):\n",
    "    '''\n",
    "    Using the model \"model\", predict hard classification for each data\n",
    "    in the D_pool (each row of D_pool)\n",
    "    Inputs:\n",
    "        model: sklearn.linear_model e.g. sklearn.linear_model._logistic.LogisticRegression\n",
    "        D_pool: numpy.ndarray where each row is a data in A.L. pool set\n",
    "    Outputs:\n",
    "        T_hat: numpy.ndarray where each row is hard prediction of D_pool\n",
    "    '''\n",
    "    T_hat = model.predict(D_pool)\n",
    "    return T_hat\n",
    "\n",
    "def PredictSoftClass(model, D_pool):\n",
    "    '''\n",
    "    Using the model \"model\", predict hard classification for each data\n",
    "    in the D_pool (each row of D_pool)\n",
    "    Inputs:\n",
    "        model: sklearn.linear_model e.g. sklearn.linear_model._logistic.LogisticRegression\n",
    "        D_pool: numpy.ndarray where each row is a data in A.L. pool set\n",
    "    Outputs:\n",
    "        T_proba: numpy.ndarray where each row is soft prediction of D_pool\n",
    "    '''\n",
    "    T_proba = model.predict_proba(D_pool)\n",
    "    return T_proba\n",
    "\n",
    "def getEntropy(T_proba):\n",
    "    '''\n",
    "    Using the model \"model\", predict hard classification for each data\n",
    "    in the D_pool (each row of D_pool)\n",
    "    Inputs:\n",
    "        T_proba: numpy.ndarray where each row is soft prediction of D_pool\n",
    "    Outputs:\n",
    "        Ent: numpy.ndarray where each row is entropy of D_pool data\n",
    "    '''\n",
    "    N = T_proba.shape[0]\n",
    "    Ent = np.zeros(N)\n",
    "    for i in range(N):\n",
    "        Ent[i] = entropy(T_proba[i], base = 2)\n",
    "    return Ent\n",
    "\n",
    "def Create_Fit_Save_Extract_StanModel(no_classes, D_Train, T_Train, filename):\n",
    "    '''\n",
    "    Using the model \"model\", predict hard classification for each data\n",
    "    in the D_pool (each row of D_pool)\n",
    "    Inputs:\n",
    "        T_Train: numpy.ndarray (one hot vector) where each row is soft prediction of D_pool\n",
    "    Outputs:\n",
    "        Ent: numpy.ndarray where each row is entropy of D_pool data\n",
    "    '''\n",
    "    onehot_encoder = OneHotEncoder(sparse=False)\n",
    "    T_Train = T_Train.reshape(len(T_Train), 1)\n",
    "    T_Train = onehot_encoder.fit_transform(T_Train)\n",
    "    T_Train = T_Train.astype(np.int)\n",
    "    log_reg_data = {\n",
    "             'N': D_Train.shape[0],\n",
    "             'K': no_classes,\n",
    "             'M': D_Train.shape[1],\n",
    "             'X': D_Train,\n",
    "             'Y': T_Train\n",
    "            }\n",
    "    \n",
    "    sm = pystan.StanModel(file=filename)\n",
    "    fit = sm.sampling(data=log_reg_data, iter=1000, chains=2)\n",
    "    params = fit.extract()\n",
    "    with open('model_fit.pkl','wb') as f:\n",
    "        pickle.dump({'model':sm, 'fit':fit},f)\n",
    "        \n",
    "    with open('model_fit.pkl','rb') as f:\n",
    "        data_dict = pickle.load(f)\n",
    "        \n",
    "    fit = data_dict['fit']\n",
    "    sm = data_dict['model']\n",
    "    return params, fit, sm\n",
    "\n",
    "def Extract_4m_savedStanModel(filename):\n",
    "    '''\n",
    "    Using the model \"model\", predict hard classification for each data\n",
    "    in the D_pool (each row of D_pool)\n",
    "    Inputs:\n",
    "        T_Train: numpy.ndarray (one hot vector) where each row is soft prediction of D_pool\n",
    "    Outputs:\n",
    "        Ent: numpy.ndarray where each row is entropy of D_pool data\n",
    "    '''\n",
    "    with open(filename,'rb') as f:\n",
    "        data_dict = pickle.load(f)\n",
    "        \n",
    "    fit = data_dict['fit']\n",
    "    sm = data_dict['model']\n",
    "    params = fit.extract()\n",
    "    return params, fit, sm\n",
    "\n",
    "def Predict_proba_4m_thetasamples(beta_samples, D_pool):\n",
    "    '''\n",
    "    \n",
    "    Inputs:\n",
    "        : \n",
    "    Outputs:\n",
    "        : \n",
    "    '''\n",
    "    no_beta_samples = beta_samples.shape[0]\n",
    "    no_features = beta_samples.shape[1]\n",
    "    no_classes = beta_samples.shape[2]\n",
    "    N = D_pool.shape[0]\n",
    "    \n",
    "    pred_prob = np.zeros((no_beta_samples, N, no_classes))\n",
    "    for i in range(no_beta_samples):\n",
    "        pred_prob[i] = D_pool @ beta_samples[i]\n",
    "        for j in range(N):\n",
    "            for k in range(no_classes):\n",
    "                pred_prob[i,j,k] = np.exp(pred_prob[i,j,k])\n",
    "            norm = np.sum(pred_prob[i,j,:], dtype = np.float32)\n",
    "            pred_prob[i,j,:] = pred_prob[i,j,:]/norm\n",
    "    return pred_prob\n",
    "\n",
    "def Compute_Expec_Entropy(beta_samples, D_pool):\n",
    "    '''\n",
    "    \n",
    "    Inputs:\n",
    "        : \n",
    "    Outputs:\n",
    "        : \n",
    "    '''\n",
    "    pred_prob = Predict_proba_4m_thetasamples(beta_samples, D_pool)\n",
    "    no_samples = pred_prob.shape[0]\n",
    "    N = pred_prob.shape[1]\n",
    "    \n",
    "    Ent = np.zeros((no_samples,N))\n",
    "    Expec_Ent = np.zeros(N)\n",
    "    for i in range(no_samples):\n",
    "        Ent[i,:] = getEntropy(pred_prob[i])\n",
    "    Expec_Ent = np.mean(Ent, axis = 0)\n",
    "    return Ent, Expec_Ent\n",
    "\n",
    "def BALD_Acq_Fn(beta_samples, D_pool, model):\n",
    "    '''\n",
    "    \n",
    "    Inputs:\n",
    "        : \n",
    "    Outputs:\n",
    "        : \n",
    "    '''\n",
    "    T_proba = PredictSoftClass(model, D_pool)\n",
    "    Ent1 = getEntropy(T_proba)\n",
    "    Ent_Samp, Ent2 = Compute_Expec_Entropy(beta_samples, D_pool)\n",
    "    BALD_AF = Ent1 - Ent2\n",
    "    return BALD_AF\n",
    "\n",
    "def Find_argmax_AF(n, AF_pool):\n",
    "    '''\n",
    "    \n",
    "    Inputs:\n",
    "        : \n",
    "    Outputs:\n",
    "        : \n",
    "    '''\n",
    "    arg_nmax = np.argpartition(AF_pool,-n)[-n:]\n",
    "    return arg_nmax\n",
    "\n",
    "def PicknDelete_4mPool(arg_nmax, D_pool, T_pool, AF):\n",
    "    '''\n",
    "    \n",
    "    Inputs:\n",
    "        :  \n",
    "    Outputs:\n",
    "        : \n",
    "    '''\n",
    "    D_select = np.take(D_pool, arg_nmax, axis = 0)\n",
    "    T_select = np.take(T_pool, arg_nmax, axis = 0)\n",
    "    AF_select = np.take(AF, arg_nmax, axis = 0)\n",
    "    \n",
    "    \n",
    "    D_pool_upd = np.delete(D_pool, arg_nmax, axis=0)\n",
    "    T_pool_upd = np.delete(T_pool, arg_nmax, axis=0)\n",
    "    AF_upd = np.delete(AF, arg_nmax, axis=0)\n",
    "    return D_select, T_select, D_pool_upd, T_pool_upd\n",
    "\n",
    "def Add_2Train(D_select, T_select, D_Train, T_Train):\n",
    "    '''\n",
    "    \n",
    "    Inputs:\n",
    "        : \n",
    "    Outputs:\n",
    "        : \n",
    "    '''\n",
    "    D_Train_upd = np.vstack((D_Train, D_select))\n",
    "    T_Train_upd = np.concatenate([T_Train,T_select])\n",
    "    return D_Train_upd, T_Train_upd\n",
    "\n"
   ]
  },
  {
   "cell_type": "markdown",
   "metadata": {},
   "source": [
    "# Main Program"
   ]
  },
  {
   "cell_type": "code",
   "execution_count": 50,
   "metadata": {},
   "outputs": [],
   "source": [
    "# Data Generation and Train, Test, AL Poolset creation\n",
    "no_classes = 3\n",
    "no_features = 5\n",
    "no_samples = 1500\n",
    "# Generate Data\n",
    "X, y = make_classification(n_samples=no_samples, n_features=no_features, n_informative=3, n_redundant=2, n_classes=no_classes, random_state=1)\n",
    "\n",
    "# Split Generated Data for initial Training and the Left over part\n",
    "D_Train, D_left, T_Train, T_left = train_test_split(X, y, test_size=0.96, random_state=42)\n",
    "\n",
    "# Split Left over Data for Testing and the Active Learning Poolset\n",
    "D_test, D_pool, T_test, T_pool = train_test_split(D_left, T_left, test_size=0.75, random_state=40)\n",
    "\n"
   ]
  },
  {
   "cell_type": "code",
   "execution_count": 51,
   "metadata": {},
   "outputs": [
    {
     "data": {
      "text/plain": [
       "LogisticRegression(multi_class='multinomial')"
      ]
     },
     "execution_count": 51,
     "metadata": {},
     "output_type": "execute_result"
    }
   ],
   "source": [
    "# Initial Training of data - Model => Logistic Regression\n",
    "model = LogisticRegression(multi_class='multinomial', solver='lbfgs')\n",
    "model.fit(D_Train, T_Train)"
   ]
  },
  {
   "cell_type": "code",
   "execution_count": 52,
   "metadata": {},
   "outputs": [
    {
     "name": "stdout",
     "output_type": "stream",
     "text": [
      "(60, 5)\n",
      "(360, 5)\n",
      "(1080, 5)\n",
      "(60,)\n",
      "(360,)\n",
      "(1080,)\n"
     ]
    }
   ],
   "source": [
    "print(D_Train.shape)\n",
    "print(D_test.shape)\n",
    "print(D_pool.shape)\n",
    "print(T_Train.shape)\n",
    "print(T_test.shape)\n",
    "print(T_pool.shape)"
   ]
  },
  {
   "cell_type": "code",
   "execution_count": 53,
   "metadata": {},
   "outputs": [],
   "source": [
    "# Testing the initial LR model on TEST data\n",
    "T_test_mod_proba = np.zeros((len(D_test),no_classes))\n",
    "T_test_mod = np.zeros(len(D_test))\n",
    "for i in range(len(D_test)):\n",
    "    T_test_mod_proba = model.predict_proba(D_test)\n",
    "    T_test_mod= model.predict(D_test)\n",
    "\n",
    "\n",
    "acc = []\n",
    "acc.append(accuracy_score(T_test, T_test_mod))\n",
    "cm = []\n",
    "cm.append(confusion_matrix(T_test, T_test_mod))"
   ]
  },
  {
   "cell_type": "code",
   "execution_count": 54,
   "metadata": {},
   "outputs": [
    {
     "name": "stdout",
     "output_type": "stream",
     "text": [
      "(360,)\n",
      "(360, 3)\n"
     ]
    }
   ],
   "source": [
    "print(T_test_mod.shape)\n",
    "print(T_test_mod_proba.shape)"
   ]
  },
  {
   "cell_type": "code",
   "execution_count": 55,
   "metadata": {},
   "outputs": [
    {
     "name": "stdout",
     "output_type": "stream",
     "text": [
      "0\n",
      "(1080,)\n",
      "[140]\n",
      "1\n",
      "(1079,)\n",
      "[221]\n",
      "2\n",
      "(1078,)\n",
      "[1003]\n",
      "3\n",
      "(1077,)\n",
      "[455]\n",
      "4\n",
      "(1076,)\n",
      "[184]\n",
      "5\n",
      "(1075,)\n",
      "[673]\n",
      "6\n",
      "(1074,)\n",
      "[1040]\n",
      "7\n",
      "(1073,)\n",
      "[235]\n",
      "8\n",
      "(1072,)\n",
      "[1016]\n",
      "9\n",
      "(1071,)\n",
      "[420]\n",
      "10\n",
      "(1070,)\n",
      "[728]\n",
      "11\n",
      "(1069,)\n",
      "[180]\n",
      "12\n",
      "(1068,)\n",
      "[332]\n",
      "13\n",
      "(1067,)\n",
      "[392]\n",
      "14\n",
      "(1066,)\n",
      "[107]\n",
      "15\n",
      "(1065,)\n",
      "[819]\n",
      "16\n",
      "(1064,)\n",
      "[831]\n",
      "17\n",
      "(1063,)\n",
      "[326]\n",
      "18\n",
      "(1062,)\n",
      "[602]\n",
      "19\n",
      "(1061,)\n",
      "[308]\n",
      "20\n",
      "(1060,)\n",
      "[728]\n"
     ]
    }
   ],
   "source": [
    "AL_bound = 20\n",
    "no_select = 1\n",
    "select_count = []\n",
    "i = 0\n",
    "while i <= AL_bound:\n",
    "    print(i)\n",
    "    T_pool_predproba = PredictSoftClass(model, D_pool)\n",
    "    #print(T_pool_predproba)\n",
    "    AF_Ent = getEntropy(T_pool_predproba)\n",
    "    print(AF_Ent.shape)\n",
    "    arg_nmax = Find_argmax_AF(no_select, AF_Ent)\n",
    "    print(arg_nmax)\n",
    "    D_select, T_select, D_pool, T_pool = PicknDelete_4mPool(arg_nmax, D_pool, T_pool, AF_Ent)\n",
    "    D_Train, T_Train = Add_2Train(D_select, T_select, D_Train, T_Train)\n",
    "    model.fit(D_Train, T_Train)\n",
    "        \n",
    "    T_test_mod_proba = PredictSoftClass(model, D_test)\n",
    "    T_test_mod= PredictHardClass(model, D_test)\n",
    "        \n",
    "    acc.append(accuracy_score(T_test, T_test_mod))\n",
    "    cm.append(confusion_matrix(T_test, T_test_mod))\n",
    "    \n",
    "    \n",
    "    i = i+no_select\n",
    "    select_count.append(i)\n",
    "    "
   ]
  },
  {
   "cell_type": "code",
   "execution_count": 56,
   "metadata": {},
   "outputs": [
    {
     "data": {
      "text/plain": [
       "[0.7555555555555555,\n",
       " 0.7611111111111111,\n",
       " 0.7472222222222222,\n",
       " 0.7555555555555555,\n",
       " 0.7583333333333333,\n",
       " 0.7555555555555555,\n",
       " 0.7694444444444445,\n",
       " 0.775,\n",
       " 0.775,\n",
       " 0.775,\n",
       " 0.7805555555555556,\n",
       " 0.7805555555555556,\n",
       " 0.7861111111111111,\n",
       " 0.7777777777777778,\n",
       " 0.7777777777777778,\n",
       " 0.7777777777777778,\n",
       " 0.7888888888888889,\n",
       " 0.7916666666666666,\n",
       " 0.7888888888888889,\n",
       " 0.7861111111111111,\n",
       " 0.7888888888888889,\n",
       " 0.7833333333333333]"
      ]
     },
     "execution_count": 56,
     "metadata": {},
     "output_type": "execute_result"
    }
   ],
   "source": [
    "acc"
   ]
  },
  {
   "cell_type": "code",
   "execution_count": 57,
   "metadata": {},
   "outputs": [
    {
     "data": {
      "text/plain": [
       "Text(0, 0.5, 'Accuracy')"
      ]
     },
     "execution_count": 57,
     "metadata": {},
     "output_type": "execute_result"
    },
    {
     "data": {
      "image/png": "[encoded data removed]",
      "text/plain": [
       "<Figure size 720x360 with 1 Axes>"
      ]
     },
     "metadata": {
      "needs_background": "light"
     },
     "output_type": "display_data"
    }
   ],
   "source": [
    "fig = plt.figure(figsize=(10,5))\n",
    "plt.grid(True, which =\"both\")\n",
    "plt.plot(select_count, acc[0:-1])\n",
    "plt.legend(['MaxEnt LR'])\n",
    "plt.title('Test Accuracy')\n",
    "plt.xlabel('Increase in samples')\n",
    "plt.ylabel('Accuracy')"
   ]
  },
  {
   "cell_type": "code",
   "execution_count": null,
   "metadata": {},
   "outputs": [],
   "source": []
  },
  {
   "cell_type": "code",
   "execution_count": null,
   "metadata": {},
   "outputs": [],
   "source": []
  }
 ],
 "metadata": {
  "kernelspec": {
   "display_name": "Python 3",
   "language": "python",
   "name": "python3"
  },
  "language_info": {
   "codemirror_mode": {
    "name": "ipython",
    "version": 3
   },
   "file_extension": ".py",
   "mimetype": "text/x-python",
   "name": "python",
   "nbconvert_exporter": "python",
   "pygments_lexer": "ipython3",
   "version": "3.8.5"
  }
 },
 "nbformat": 4,
 "nbformat_minor": 4
}
