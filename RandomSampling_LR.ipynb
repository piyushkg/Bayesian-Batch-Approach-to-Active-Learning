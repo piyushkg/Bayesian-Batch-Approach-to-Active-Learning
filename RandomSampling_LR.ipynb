{
 "cells": [
  {
   "cell_type": "code",
   "execution_count": 7,
   "metadata": {
    "executionInfo": {
     "elapsed": 2121,
     "status": "ok",
     "timestamp": 1620799540752,
     "user": {
      "displayName": "Jayanth N P",
      "photoUrl": "https://lh3.googleusercontent.com/a-/AOh14GiSAXxPuPU38VDX-lRnIXUNkn3BC7hH-HqE9X7XRA=s64",
      "userId": "12595123520231436373"
     },
     "user_tz": -330
    },
    "id": "ki6K-jc9KqAW"
   },
   "outputs": [],
   "source": [
    "import pystan \n",
    "import numpy as np\n",
    "import matplotlib.pyplot as plt\n",
    "import pickle\n",
    "from scipy.stats import entropy\n",
    "from sklearn.datasets import make_classification\n",
    "from sklearn.model_selection import train_test_split\n",
    "from sklearn.linear_model import LogisticRegression\n",
    "from sklearn.preprocessing import OneHotEncoder\n",
    "from sklearn.metrics import confusion_matrix\n",
    "from sklearn.metrics import accuracy_score"
   ]
  },
  {
   "cell_type": "markdown",
   "metadata": {
    "id": "GBKQWQdmKqAn"
   },
   "source": [
    "# Custom Function "
   ]
  },
  {
   "cell_type": "code",
   "execution_count": 8,
   "metadata": {
    "executionInfo": {
     "elapsed": 2110,
     "status": "ok",
     "timestamp": 1620799540754,
     "user": {
      "displayName": "Jayanth N P",
      "photoUrl": "https://lh3.googleusercontent.com/a-/AOh14GiSAXxPuPU38VDX-lRnIXUNkn3BC7hH-HqE9X7XRA=s64",
      "userId": "12595123520231436373"
     },
     "user_tz": -330
    },
    "id": "aJhlO3b5KqAo"
   },
   "outputs": [],
   "source": [
    "def PredictHardClass(model, D_pool):\n",
    "    '''\n",
    "    Using the model \"model\", predict hard classification for each data\n",
    "    in the D_pool (each row of D_pool)\n",
    "    Inputs:\n",
    "        model: sklearn.linear_model e.g. sklearn.linear_model._logistic.LogisticRegression\n",
    "        D_pool: numpy.ndarray where each row is a data in A.L. pool set\n",
    "    Outputs:\n",
    "        T_hat: numpy.ndarray where each row is hard prediction of D_pool\n",
    "    '''\n",
    "    T_hat = model.predict(D_pool)\n",
    "    return T_hat\n",
    "\n",
    "def PredictSoftClass(model, D_pool):\n",
    "    '''\n",
    "    Using the model \"model\", predict soft classification for each data\n",
    "    in the D_pool (each row of D_pool)\n",
    "    Inputs:\n",
    "        model: Trained CNN Model\n",
    "        D_pool: numpy.ndarray where each row is a data in A.L. pool set\n",
    "    Outputs:\n",
    "        T_proba: numpy.ndarray where each row is soft prediction of D_pool\n",
    "    '''\n",
    "    T_proba = model.predict(D_pool)\n",
    "    return T_proba\n",
    "\n",
    "def getEntropy(T_proba):\n",
    "    '''\n",
    "    Using the soft classification, calculate the entropy for each data\n",
    "    in the D_pool\n",
    "    Inputs:\n",
    "        T_proba: numpy.ndarray where each row is soft prediction of D_pool\n",
    "    Outputs:\n",
    "        Ent: numpy.ndarray where each row is entropy of D_pool data\n",
    "    '''\n",
    "    N = T_proba.shape[0]\n",
    "    Ent = np.zeros(N)\n",
    "    for i in range(N):\n",
    "        Ent[i] = entropy(T_proba[i], base = 2)\n",
    "    return Ent\n",
    "\n",
    "def Find_argmax_AF(n, AF_pool):\n",
    "    '''\n",
    "    Using the entropy corresponding to each data point in D_pool, find 'n'\n",
    "    data points with highest entropy values\n",
    "    Inputs:\n",
    "        n: (int) Number of data points to be selected\n",
    "        AF_pool: numpy.ndarray where each row is entropy of D_pool data\n",
    "    Outputs:\n",
    "        arg_nmax: numpy.ndarray with index of 'n' data points with highest\n",
    "                  entropy values\n",
    "    '''\n",
    "    arg_nmax = np.argpartition(AF_pool,-n)[-n:]\n",
    "    return arg_nmax\n",
    "\n",
    "def Find_Random(n, len_T_pool):\n",
    "    '''\n",
    "    Selecting 'n' random data points\n",
    "    Inputs:\n",
    "        n: (int) Number of data points to be selected\n",
    "        D_pool: numpy.ndarray where each row is a data in A.L. pool set\n",
    "    Outputs:\n",
    "        arg_nmax: numpy.ndarray with index of 'n' random data points\n",
    "    '''\n",
    "    arg_nmax = np.random.choice(np.arange(len(D_pool)), n, replace=False)\n",
    "    return arg_nmax\n",
    "\n",
    "def PicknDelete_4mPool(arg_nmax, D_pool, T_pool, AF):\n",
    "    '''\n",
    "    Function to pick data points from D_pool-T_pool using given indices,\n",
    "    place them in D_select (used later to add to training set) and delete\n",
    "    the selected data points from D_pool \n",
    "    Inputs:\n",
    "        arg_nmax: numpy.ndarray with index of 'n' data points\n",
    "        D_pool: numpy.ndarray where each row is a data in A.L. pool set\n",
    "        T_pool: numpy.ndarray where each row is a label corresponding to\n",
    "                data in A.L. pool set\n",
    "        AF: numpy.ndarray where each row is entropy of D_pool data\n",
    "    Outputs:\n",
    "        D_select: numpy.ndarray where each row is a data selected from the\n",
    "                  A.L. pool set\n",
    "        T_select: numpy.ndarray where each row is a label corresponding to\n",
    "                  data selected from the A.L. pool set\n",
    "        D_pool_upd: numpy.ndarray where each row is a data in the depleted\n",
    "                    A.L. pool set\n",
    "        T_pool_upd: numpy.ndarray where each row is a label corresponding to\n",
    "                    data in the depleted A.L. pool set\n",
    "    '''\n",
    "    D_select = np.take(D_pool, arg_nmax, axis = 0)\n",
    "    T_select = np.take(T_pool, arg_nmax, axis = 0)\n",
    "    AF_select = np.take(AF, arg_nmax, axis = 0)\n",
    "    \n",
    "    \n",
    "    D_pool_upd = np.delete(D_pool, arg_nmax, axis=0)\n",
    "    T_pool_upd = np.delete(T_pool, arg_nmax, axis=0)\n",
    "    AF_upd = np.delete(AF, arg_nmax, axis=0)\n",
    "    return D_select, T_select, D_pool_upd, T_pool_upd\n",
    "\n",
    "def Add_2Train(D_select, T_select, D_Train, T_Train):\n",
    "    '''\n",
    "    Adding selected data points to Train set D_Train-T_Train\n",
    "    Inputs:\n",
    "        D_select: numpy.ndarray where each row is a data selected from the\n",
    "                  A.L. pool set\n",
    "        T_select: numpy.ndarray where each row is a label corresponding to\n",
    "                  data selected from the A.L. pool set\n",
    "        D_Train: numpy.ndarray where each row is a data in the Train set\n",
    "        T_Train: numpy.ndarray where each row is a label corresponding to\n",
    "                 data in the Train set\n",
    "    Outputs:\n",
    "        D_Train_upd: numpy.ndarray where each row is a data in the updated\n",
    "                     Train set\n",
    "        T_Train_upd: numpy.ndarray where each row is a label corresponding to\n",
    "                     data in the updated Train set\n",
    "    '''\n",
    "    D_Train_upd = np.vstack((D_Train, D_select))\n",
    "    T_Train_upd = np.concatenate([T_Train,T_select])\n",
    "    return D_Train_upd, T_Train_upd\n",
    "\n",
    "def ReShape(X, y):\n",
    "    '''\n",
    "    Reshape the input to appropriate shape\n",
    "    Inputs:\n",
    "        X: numpy.ndarray which is the Raw input\n",
    "        y: One Hot Vector corresponding to data\n",
    "    Outputs:\n",
    "        X_new: flattened numpy.ndarray\n",
    "        y_new: Label corresponding to data\n",
    "    '''\n",
    "    X_shape = X.shape\n",
    "    X_new = X.reshape(X_shape[0], X_shape[1]*X_shape[2])\n",
    "\n",
    "    y_new = np.array([np.argmax(yi, axis=None, out=None) for yi in y])\n",
    "\n",
    "    return X_new, y_new"
   ]
  },
  {
   "cell_type": "markdown",
   "metadata": {
    "id": "WdKrqfxKKqAt"
   },
   "source": [
    "# Main Program"
   ]
  },
  {
   "cell_type": "code",
   "execution_count": 32,
   "metadata": {},
   "outputs": [],
   "source": [
    "# Data Generation and Train, Test, AL Poolset creation\n",
    "no_classes = 3\n",
    "no_features = 5\n",
    "no_samples = 1500\n",
    "# Generate Data\n",
    "X, y = make_classification(n_samples=no_samples, n_features=no_features, n_informative=3, n_redundant=2, n_classes=no_classes, random_state=1)\n",
    "\n",
    "# Split Generated Data for initial Training and the Left over part\n",
    "D_Train, D_left, T_Train, T_left = train_test_split(X, y, test_size=0.96, random_state=42)\n",
    "\n",
    "# Split Left over Data for Testing and the Active Learning Poolset\n",
    "D_test, D_pool, T_test, T_pool = train_test_split(D_left, T_left, test_size=0.75, random_state=40)\n"
   ]
  },
  {
   "cell_type": "code",
   "execution_count": 33,
   "metadata": {
    "colab": {
     "base_uri": "https://localhost:8080/"
    },
    "executionInfo": {
     "elapsed": 277473,
     "status": "ok",
     "timestamp": 1620799816127,
     "user": {
      "displayName": "Jayanth N P",
      "photoUrl": "https://lh3.googleusercontent.com/a-/AOh14GiSAXxPuPU38VDX-lRnIXUNkn3BC7hH-HqE9X7XRA=s64",
      "userId": "12595123520231436373"
     },
     "user_tz": -330
    },
    "id": "0TqJXA-vKqAw",
    "outputId": "3592561c-5f95-47fb-806b-21664396909c"
   },
   "outputs": [
    {
     "data": {
      "text/plain": [
       "LogisticRegression(multi_class='multinomial')"
      ]
     },
     "execution_count": 33,
     "metadata": {},
     "output_type": "execute_result"
    }
   ],
   "source": [
    "# Initial Training of data - Model => Logistic Regression\n",
    "model = LogisticRegression(multi_class='multinomial', solver='lbfgs')\n",
    "model.fit(D_Train, T_Train)"
   ]
  },
  {
   "cell_type": "code",
   "execution_count": 34,
   "metadata": {
    "colab": {
     "base_uri": "https://localhost:8080/"
    },
    "executionInfo": {
     "elapsed": 277473,
     "status": "ok",
     "timestamp": 1620799816131,
     "user": {
      "displayName": "Jayanth N P",
      "photoUrl": "https://lh3.googleusercontent.com/a-/AOh14GiSAXxPuPU38VDX-lRnIXUNkn3BC7hH-HqE9X7XRA=s64",
      "userId": "12595123520231436373"
     },
     "user_tz": -330
    },
    "id": "0N5OzPeHKqAy",
    "outputId": "8062e535-fcb7-4954-eb61-b74f8af930a0"
   },
   "outputs": [
    {
     "name": "stdout",
     "output_type": "stream",
     "text": [
      "(60, 5)\n",
      "(360, 5)\n",
      "(1080, 5)\n",
      "(60,)\n",
      "(360,)\n",
      "(1080,)\n"
     ]
    }
   ],
   "source": [
    "print(D_Train.shape)\n",
    "print(D_test.shape)\n",
    "print(D_pool.shape)\n",
    "print(T_Train.shape)\n",
    "print(T_test.shape)\n",
    "print(T_pool.shape)"
   ]
  },
  {
   "cell_type": "code",
   "execution_count": 35,
   "metadata": {
    "executionInfo": {
     "elapsed": 391396,
     "status": "ok",
     "timestamp": 1620799930060,
     "user": {
      "displayName": "Jayanth N P",
      "photoUrl": "https://lh3.googleusercontent.com/a-/AOh14GiSAXxPuPU38VDX-lRnIXUNkn3BC7hH-HqE9X7XRA=s64",
      "userId": "12595123520231436373"
     },
     "user_tz": -330
    },
    "id": "z3k5NFwqKqAy"
   },
   "outputs": [],
   "source": [
    "# Testing the initial LR model on TEST data\n",
    "T_test_mod_proba = np.zeros((len(D_test),no_classes))\n",
    "T_test_mod = np.zeros(len(D_test))\n",
    "for i in range(len(D_test)):\n",
    "    T_test_mod_proba = model.predict_proba(D_test)\n",
    "    T_test_mod= model.predict(D_test)\n",
    "\n",
    "\n",
    "acc = []\n",
    "acc.append(accuracy_score(T_test, T_test_mod))"
   ]
  },
  {
   "cell_type": "code",
   "execution_count": 36,
   "metadata": {
    "colab": {
     "base_uri": "https://localhost:8080/"
    },
    "executionInfo": {
     "elapsed": 391395,
     "status": "ok",
     "timestamp": 1620799930063,
     "user": {
      "displayName": "Jayanth N P",
      "photoUrl": "https://lh3.googleusercontent.com/a-/AOh14GiSAXxPuPU38VDX-lRnIXUNkn3BC7hH-HqE9X7XRA=s64",
      "userId": "12595123520231436373"
     },
     "user_tz": -330
    },
    "id": "xqhjL6IJKqAz",
    "outputId": "c5c917b7-17e6-46f6-feec-69b7599354d8"
   },
   "outputs": [
    {
     "name": "stdout",
     "output_type": "stream",
     "text": [
      "(360,)\n",
      "(360, 3)\n"
     ]
    }
   ],
   "source": [
    "print(T_test_mod.shape)\n",
    "print(T_test_mod_proba.shape)"
   ]
  },
  {
   "cell_type": "markdown",
   "metadata": {
    "id": "L0uu7kpJNzNO"
   },
   "source": [
    "# Random Sampling"
   ]
  },
  {
   "cell_type": "code",
   "execution_count": 37,
   "metadata": {
    "colab": {
     "base_uri": "https://localhost:8080/"
    },
    "executionInfo": {
     "elapsed": 545322,
     "status": "ok",
     "timestamp": 1620800083994,
     "user": {
      "displayName": "Jayanth N P",
      "photoUrl": "https://lh3.googleusercontent.com/a-/AOh14GiSAXxPuPU38VDX-lRnIXUNkn3BC7hH-HqE9X7XRA=s64",
      "userId": "12595123520231436373"
     },
     "user_tz": -330
    },
    "id": "O4t9AEkdKqA0",
    "outputId": "36d8c7f6-5e93-4d43-b1dd-dbf9dc8e5d05"
   },
   "outputs": [
    {
     "name": "stdout",
     "output_type": "stream",
     "text": [
      "1\n",
      "2\n",
      "3\n",
      "4\n",
      "5\n",
      "6\n",
      "7\n",
      "8\n",
      "9\n",
      "10\n",
      "11\n",
      "12\n"
     ]
    },
    {
     "name": "stderr",
     "output_type": "stream",
     "text": [
      "/home/user/anaconda3/lib/python3.8/site-packages/scipy/stats/_distn_infrastructure.py:2751: RuntimeWarning: invalid value encountered in double_scalars\n",
      "  pk = 1.0*pk / np.sum(pk, axis=axis, keepdims=True)\n",
      "/home/user/anaconda3/lib/python3.8/site-packages/scipy/stats/_distn_infrastructure.py:2751: RuntimeWarning: invalid value encountered in double_scalars\n",
      "  pk = 1.0*pk / np.sum(pk, axis=axis, keepdims=True)\n",
      "/home/user/anaconda3/lib/python3.8/site-packages/scipy/stats/_distn_infrastructure.py:2751: RuntimeWarning: invalid value encountered in double_scalars\n",
      "  pk = 1.0*pk / np.sum(pk, axis=axis, keepdims=True)\n",
      "/home/user/anaconda3/lib/python3.8/site-packages/scipy/stats/_distn_infrastructure.py:2751: RuntimeWarning: invalid value encountered in double_scalars\n",
      "  pk = 1.0*pk / np.sum(pk, axis=axis, keepdims=True)\n",
      "/home/user/anaconda3/lib/python3.8/site-packages/scipy/stats/_distn_infrastructure.py:2751: RuntimeWarning: invalid value encountered in double_scalars\n",
      "  pk = 1.0*pk / np.sum(pk, axis=axis, keepdims=True)\n",
      "/home/user/anaconda3/lib/python3.8/site-packages/scipy/stats/_distn_infrastructure.py:2751: RuntimeWarning: invalid value encountered in double_scalars\n",
      "  pk = 1.0*pk / np.sum(pk, axis=axis, keepdims=True)\n",
      "/home/user/anaconda3/lib/python3.8/site-packages/scipy/stats/_distn_infrastructure.py:2751: RuntimeWarning: invalid value encountered in double_scalars\n",
      "  pk = 1.0*pk / np.sum(pk, axis=axis, keepdims=True)\n",
      "/home/user/anaconda3/lib/python3.8/site-packages/scipy/stats/_distn_infrastructure.py:2751: RuntimeWarning: invalid value encountered in double_scalars\n",
      "  pk = 1.0*pk / np.sum(pk, axis=axis, keepdims=True)\n",
      "/home/user/anaconda3/lib/python3.8/site-packages/scipy/stats/_distn_infrastructure.py:2751: RuntimeWarning: invalid value encountered in double_scalars\n",
      "  pk = 1.0*pk / np.sum(pk, axis=axis, keepdims=True)\n",
      "/home/user/anaconda3/lib/python3.8/site-packages/scipy/stats/_distn_infrastructure.py:2751: RuntimeWarning: invalid value encountered in double_scalars\n",
      "  pk = 1.0*pk / np.sum(pk, axis=axis, keepdims=True)\n",
      "/home/user/anaconda3/lib/python3.8/site-packages/scipy/stats/_distn_infrastructure.py:2751: RuntimeWarning: invalid value encountered in double_scalars\n",
      "  pk = 1.0*pk / np.sum(pk, axis=axis, keepdims=True)\n",
      "/home/user/anaconda3/lib/python3.8/site-packages/scipy/stats/_distn_infrastructure.py:2751: RuntimeWarning: invalid value encountered in double_scalars\n",
      "  pk = 1.0*pk / np.sum(pk, axis=axis, keepdims=True)\n"
     ]
    },
    {
     "name": "stdout",
     "output_type": "stream",
     "text": [
      "13\n",
      "14\n",
      "15\n",
      "16\n",
      "17\n",
      "18\n",
      "19\n",
      "20\n",
      "21\n",
      "22\n",
      "23\n"
     ]
    },
    {
     "name": "stderr",
     "output_type": "stream",
     "text": [
      "/home/user/anaconda3/lib/python3.8/site-packages/scipy/stats/_distn_infrastructure.py:2751: RuntimeWarning: invalid value encountered in double_scalars\n",
      "  pk = 1.0*pk / np.sum(pk, axis=axis, keepdims=True)\n",
      "/home/user/anaconda3/lib/python3.8/site-packages/scipy/stats/_distn_infrastructure.py:2751: RuntimeWarning: invalid value encountered in double_scalars\n",
      "  pk = 1.0*pk / np.sum(pk, axis=axis, keepdims=True)\n",
      "/home/user/anaconda3/lib/python3.8/site-packages/scipy/stats/_distn_infrastructure.py:2751: RuntimeWarning: invalid value encountered in double_scalars\n",
      "  pk = 1.0*pk / np.sum(pk, axis=axis, keepdims=True)\n",
      "/home/user/anaconda3/lib/python3.8/site-packages/scipy/stats/_distn_infrastructure.py:2751: RuntimeWarning: invalid value encountered in double_scalars\n",
      "  pk = 1.0*pk / np.sum(pk, axis=axis, keepdims=True)\n",
      "/home/user/anaconda3/lib/python3.8/site-packages/scipy/stats/_distn_infrastructure.py:2751: RuntimeWarning: invalid value encountered in double_scalars\n",
      "  pk = 1.0*pk / np.sum(pk, axis=axis, keepdims=True)\n",
      "/home/user/anaconda3/lib/python3.8/site-packages/scipy/stats/_distn_infrastructure.py:2751: RuntimeWarning: invalid value encountered in double_scalars\n",
      "  pk = 1.0*pk / np.sum(pk, axis=axis, keepdims=True)\n",
      "/home/user/anaconda3/lib/python3.8/site-packages/scipy/stats/_distn_infrastructure.py:2751: RuntimeWarning: invalid value encountered in double_scalars\n",
      "  pk = 1.0*pk / np.sum(pk, axis=axis, keepdims=True)\n",
      "/home/user/anaconda3/lib/python3.8/site-packages/scipy/stats/_distn_infrastructure.py:2751: RuntimeWarning: invalid value encountered in double_scalars\n",
      "  pk = 1.0*pk / np.sum(pk, axis=axis, keepdims=True)\n",
      "/home/user/anaconda3/lib/python3.8/site-packages/scipy/stats/_distn_infrastructure.py:2751: RuntimeWarning: invalid value encountered in double_scalars\n",
      "  pk = 1.0*pk / np.sum(pk, axis=axis, keepdims=True)\n",
      "/home/user/anaconda3/lib/python3.8/site-packages/scipy/stats/_distn_infrastructure.py:2751: RuntimeWarning: invalid value encountered in double_scalars\n",
      "  pk = 1.0*pk / np.sum(pk, axis=axis, keepdims=True)\n",
      "/home/user/anaconda3/lib/python3.8/site-packages/scipy/stats/_distn_infrastructure.py:2751: RuntimeWarning: invalid value encountered in double_scalars\n",
      "  pk = 1.0*pk / np.sum(pk, axis=axis, keepdims=True)\n"
     ]
    },
    {
     "name": "stdout",
     "output_type": "stream",
     "text": [
      "24\n",
      "25\n",
      "26\n",
      "27\n",
      "28\n",
      "29\n",
      "30\n",
      "31\n",
      "32\n",
      "33\n"
     ]
    },
    {
     "name": "stderr",
     "output_type": "stream",
     "text": [
      "/home/user/anaconda3/lib/python3.8/site-packages/scipy/stats/_distn_infrastructure.py:2751: RuntimeWarning: invalid value encountered in double_scalars\n",
      "  pk = 1.0*pk / np.sum(pk, axis=axis, keepdims=True)\n",
      "/home/user/anaconda3/lib/python3.8/site-packages/scipy/stats/_distn_infrastructure.py:2751: RuntimeWarning: invalid value encountered in double_scalars\n",
      "  pk = 1.0*pk / np.sum(pk, axis=axis, keepdims=True)\n",
      "/home/user/anaconda3/lib/python3.8/site-packages/scipy/stats/_distn_infrastructure.py:2751: RuntimeWarning: invalid value encountered in double_scalars\n",
      "  pk = 1.0*pk / np.sum(pk, axis=axis, keepdims=True)\n",
      "/home/user/anaconda3/lib/python3.8/site-packages/scipy/stats/_distn_infrastructure.py:2751: RuntimeWarning: invalid value encountered in double_scalars\n",
      "  pk = 1.0*pk / np.sum(pk, axis=axis, keepdims=True)\n",
      "/home/user/anaconda3/lib/python3.8/site-packages/scipy/stats/_distn_infrastructure.py:2751: RuntimeWarning: invalid value encountered in double_scalars\n",
      "  pk = 1.0*pk / np.sum(pk, axis=axis, keepdims=True)\n",
      "/home/user/anaconda3/lib/python3.8/site-packages/scipy/stats/_distn_infrastructure.py:2751: RuntimeWarning: invalid value encountered in double_scalars\n",
      "  pk = 1.0*pk / np.sum(pk, axis=axis, keepdims=True)\n",
      "/home/user/anaconda3/lib/python3.8/site-packages/scipy/stats/_distn_infrastructure.py:2751: RuntimeWarning: invalid value encountered in double_scalars\n",
      "  pk = 1.0*pk / np.sum(pk, axis=axis, keepdims=True)\n",
      "/home/user/anaconda3/lib/python3.8/site-packages/scipy/stats/_distn_infrastructure.py:2751: RuntimeWarning: invalid value encountered in double_scalars\n",
      "  pk = 1.0*pk / np.sum(pk, axis=axis, keepdims=True)\n",
      "/home/user/anaconda3/lib/python3.8/site-packages/scipy/stats/_distn_infrastructure.py:2751: RuntimeWarning: invalid value encountered in double_scalars\n",
      "  pk = 1.0*pk / np.sum(pk, axis=axis, keepdims=True)\n",
      "/home/user/anaconda3/lib/python3.8/site-packages/scipy/stats/_distn_infrastructure.py:2751: RuntimeWarning: invalid value encountered in double_scalars\n",
      "  pk = 1.0*pk / np.sum(pk, axis=axis, keepdims=True)\n"
     ]
    },
    {
     "name": "stdout",
     "output_type": "stream",
     "text": [
      "34\n",
      "35\n",
      "36\n",
      "37\n",
      "38\n",
      "39\n",
      "40\n",
      "41\n",
      "42\n",
      "43\n"
     ]
    },
    {
     "name": "stderr",
     "output_type": "stream",
     "text": [
      "/home/user/anaconda3/lib/python3.8/site-packages/scipy/stats/_distn_infrastructure.py:2751: RuntimeWarning: invalid value encountered in double_scalars\n",
      "  pk = 1.0*pk / np.sum(pk, axis=axis, keepdims=True)\n",
      "/home/user/anaconda3/lib/python3.8/site-packages/scipy/stats/_distn_infrastructure.py:2751: RuntimeWarning: invalid value encountered in double_scalars\n",
      "  pk = 1.0*pk / np.sum(pk, axis=axis, keepdims=True)\n",
      "/home/user/anaconda3/lib/python3.8/site-packages/scipy/stats/_distn_infrastructure.py:2751: RuntimeWarning: invalid value encountered in double_scalars\n",
      "  pk = 1.0*pk / np.sum(pk, axis=axis, keepdims=True)\n",
      "/home/user/anaconda3/lib/python3.8/site-packages/scipy/stats/_distn_infrastructure.py:2751: RuntimeWarning: invalid value encountered in double_scalars\n",
      "  pk = 1.0*pk / np.sum(pk, axis=axis, keepdims=True)\n",
      "/home/user/anaconda3/lib/python3.8/site-packages/scipy/stats/_distn_infrastructure.py:2751: RuntimeWarning: invalid value encountered in double_scalars\n",
      "  pk = 1.0*pk / np.sum(pk, axis=axis, keepdims=True)\n",
      "/home/user/anaconda3/lib/python3.8/site-packages/scipy/stats/_distn_infrastructure.py:2751: RuntimeWarning: invalid value encountered in double_scalars\n",
      "  pk = 1.0*pk / np.sum(pk, axis=axis, keepdims=True)\n",
      "/home/user/anaconda3/lib/python3.8/site-packages/scipy/stats/_distn_infrastructure.py:2751: RuntimeWarning: invalid value encountered in double_scalars\n",
      "  pk = 1.0*pk / np.sum(pk, axis=axis, keepdims=True)\n",
      "/home/user/anaconda3/lib/python3.8/site-packages/scipy/stats/_distn_infrastructure.py:2751: RuntimeWarning: invalid value encountered in double_scalars\n",
      "  pk = 1.0*pk / np.sum(pk, axis=axis, keepdims=True)\n",
      "/home/user/anaconda3/lib/python3.8/site-packages/scipy/stats/_distn_infrastructure.py:2751: RuntimeWarning: invalid value encountered in double_scalars\n",
      "  pk = 1.0*pk / np.sum(pk, axis=axis, keepdims=True)\n",
      "/home/user/anaconda3/lib/python3.8/site-packages/scipy/stats/_distn_infrastructure.py:2751: RuntimeWarning: invalid value encountered in double_scalars\n",
      "  pk = 1.0*pk / np.sum(pk, axis=axis, keepdims=True)\n"
     ]
    },
    {
     "name": "stdout",
     "output_type": "stream",
     "text": [
      "44\n",
      "45\n",
      "46\n",
      "47\n",
      "48\n",
      "49\n",
      "50\n",
      "51\n",
      "52\n",
      "53\n",
      "54\n",
      "55\n"
     ]
    },
    {
     "name": "stderr",
     "output_type": "stream",
     "text": [
      "/home/user/anaconda3/lib/python3.8/site-packages/scipy/stats/_distn_infrastructure.py:2751: RuntimeWarning: invalid value encountered in double_scalars\n",
      "  pk = 1.0*pk / np.sum(pk, axis=axis, keepdims=True)\n",
      "/home/user/anaconda3/lib/python3.8/site-packages/scipy/stats/_distn_infrastructure.py:2751: RuntimeWarning: invalid value encountered in double_scalars\n",
      "  pk = 1.0*pk / np.sum(pk, axis=axis, keepdims=True)\n",
      "/home/user/anaconda3/lib/python3.8/site-packages/scipy/stats/_distn_infrastructure.py:2751: RuntimeWarning: invalid value encountered in double_scalars\n",
      "  pk = 1.0*pk / np.sum(pk, axis=axis, keepdims=True)\n",
      "/home/user/anaconda3/lib/python3.8/site-packages/scipy/stats/_distn_infrastructure.py:2751: RuntimeWarning: invalid value encountered in double_scalars\n",
      "  pk = 1.0*pk / np.sum(pk, axis=axis, keepdims=True)\n",
      "/home/user/anaconda3/lib/python3.8/site-packages/scipy/stats/_distn_infrastructure.py:2751: RuntimeWarning: invalid value encountered in double_scalars\n",
      "  pk = 1.0*pk / np.sum(pk, axis=axis, keepdims=True)\n",
      "/home/user/anaconda3/lib/python3.8/site-packages/scipy/stats/_distn_infrastructure.py:2751: RuntimeWarning: invalid value encountered in double_scalars\n",
      "  pk = 1.0*pk / np.sum(pk, axis=axis, keepdims=True)\n",
      "/home/user/anaconda3/lib/python3.8/site-packages/scipy/stats/_distn_infrastructure.py:2751: RuntimeWarning: invalid value encountered in double_scalars\n",
      "  pk = 1.0*pk / np.sum(pk, axis=axis, keepdims=True)\n",
      "/home/user/anaconda3/lib/python3.8/site-packages/scipy/stats/_distn_infrastructure.py:2751: RuntimeWarning: invalid value encountered in double_scalars\n",
      "  pk = 1.0*pk / np.sum(pk, axis=axis, keepdims=True)\n",
      "/home/user/anaconda3/lib/python3.8/site-packages/scipy/stats/_distn_infrastructure.py:2751: RuntimeWarning: invalid value encountered in double_scalars\n",
      "  pk = 1.0*pk / np.sum(pk, axis=axis, keepdims=True)\n",
      "/home/user/anaconda3/lib/python3.8/site-packages/scipy/stats/_distn_infrastructure.py:2751: RuntimeWarning: invalid value encountered in double_scalars\n",
      "  pk = 1.0*pk / np.sum(pk, axis=axis, keepdims=True)\n",
      "/home/user/anaconda3/lib/python3.8/site-packages/scipy/stats/_distn_infrastructure.py:2751: RuntimeWarning: invalid value encountered in double_scalars\n",
      "  pk = 1.0*pk / np.sum(pk, axis=axis, keepdims=True)\n",
      "/home/user/anaconda3/lib/python3.8/site-packages/scipy/stats/_distn_infrastructure.py:2751: RuntimeWarning: invalid value encountered in double_scalars\n",
      "  pk = 1.0*pk / np.sum(pk, axis=axis, keepdims=True)\n"
     ]
    },
    {
     "name": "stdout",
     "output_type": "stream",
     "text": [
      "56\n",
      "57\n",
      "58\n",
      "59\n",
      "60\n",
      "61\n",
      "62\n",
      "63\n",
      "64\n",
      "65\n"
     ]
    },
    {
     "name": "stderr",
     "output_type": "stream",
     "text": [
      "/home/user/anaconda3/lib/python3.8/site-packages/scipy/stats/_distn_infrastructure.py:2751: RuntimeWarning: invalid value encountered in double_scalars\n",
      "  pk = 1.0*pk / np.sum(pk, axis=axis, keepdims=True)\n",
      "/home/user/anaconda3/lib/python3.8/site-packages/scipy/stats/_distn_infrastructure.py:2751: RuntimeWarning: invalid value encountered in double_scalars\n",
      "  pk = 1.0*pk / np.sum(pk, axis=axis, keepdims=True)\n",
      "/home/user/anaconda3/lib/python3.8/site-packages/scipy/stats/_distn_infrastructure.py:2751: RuntimeWarning: invalid value encountered in double_scalars\n",
      "  pk = 1.0*pk / np.sum(pk, axis=axis, keepdims=True)\n",
      "/home/user/anaconda3/lib/python3.8/site-packages/scipy/stats/_distn_infrastructure.py:2751: RuntimeWarning: invalid value encountered in double_scalars\n",
      "  pk = 1.0*pk / np.sum(pk, axis=axis, keepdims=True)\n",
      "/home/user/anaconda3/lib/python3.8/site-packages/scipy/stats/_distn_infrastructure.py:2751: RuntimeWarning: invalid value encountered in double_scalars\n",
      "  pk = 1.0*pk / np.sum(pk, axis=axis, keepdims=True)\n",
      "/home/user/anaconda3/lib/python3.8/site-packages/scipy/stats/_distn_infrastructure.py:2751: RuntimeWarning: invalid value encountered in double_scalars\n",
      "  pk = 1.0*pk / np.sum(pk, axis=axis, keepdims=True)\n",
      "/home/user/anaconda3/lib/python3.8/site-packages/scipy/stats/_distn_infrastructure.py:2751: RuntimeWarning: invalid value encountered in double_scalars\n",
      "  pk = 1.0*pk / np.sum(pk, axis=axis, keepdims=True)\n",
      "/home/user/anaconda3/lib/python3.8/site-packages/scipy/stats/_distn_infrastructure.py:2751: RuntimeWarning: invalid value encountered in double_scalars\n",
      "  pk = 1.0*pk / np.sum(pk, axis=axis, keepdims=True)\n",
      "/home/user/anaconda3/lib/python3.8/site-packages/scipy/stats/_distn_infrastructure.py:2751: RuntimeWarning: invalid value encountered in double_scalars\n",
      "  pk = 1.0*pk / np.sum(pk, axis=axis, keepdims=True)\n",
      "/home/user/anaconda3/lib/python3.8/site-packages/scipy/stats/_distn_infrastructure.py:2751: RuntimeWarning: invalid value encountered in double_scalars\n",
      "  pk = 1.0*pk / np.sum(pk, axis=axis, keepdims=True)\n"
     ]
    },
    {
     "name": "stdout",
     "output_type": "stream",
     "text": [
      "66\n",
      "67\n",
      "68\n",
      "69\n",
      "70\n",
      "71\n",
      "72\n",
      "73\n",
      "74\n",
      "75\n",
      "76\n"
     ]
    },
    {
     "name": "stderr",
     "output_type": "stream",
     "text": [
      "/home/user/anaconda3/lib/python3.8/site-packages/scipy/stats/_distn_infrastructure.py:2751: RuntimeWarning: invalid value encountered in double_scalars\n",
      "  pk = 1.0*pk / np.sum(pk, axis=axis, keepdims=True)\n",
      "/home/user/anaconda3/lib/python3.8/site-packages/scipy/stats/_distn_infrastructure.py:2751: RuntimeWarning: invalid value encountered in double_scalars\n",
      "  pk = 1.0*pk / np.sum(pk, axis=axis, keepdims=True)\n",
      "/home/user/anaconda3/lib/python3.8/site-packages/scipy/stats/_distn_infrastructure.py:2751: RuntimeWarning: invalid value encountered in double_scalars\n",
      "  pk = 1.0*pk / np.sum(pk, axis=axis, keepdims=True)\n",
      "/home/user/anaconda3/lib/python3.8/site-packages/scipy/stats/_distn_infrastructure.py:2751: RuntimeWarning: invalid value encountered in double_scalars\n",
      "  pk = 1.0*pk / np.sum(pk, axis=axis, keepdims=True)\n",
      "/home/user/anaconda3/lib/python3.8/site-packages/scipy/stats/_distn_infrastructure.py:2751: RuntimeWarning: invalid value encountered in double_scalars\n",
      "  pk = 1.0*pk / np.sum(pk, axis=axis, keepdims=True)\n",
      "/home/user/anaconda3/lib/python3.8/site-packages/scipy/stats/_distn_infrastructure.py:2751: RuntimeWarning: invalid value encountered in double_scalars\n",
      "  pk = 1.0*pk / np.sum(pk, axis=axis, keepdims=True)\n",
      "/home/user/anaconda3/lib/python3.8/site-packages/scipy/stats/_distn_infrastructure.py:2751: RuntimeWarning: invalid value encountered in double_scalars\n",
      "  pk = 1.0*pk / np.sum(pk, axis=axis, keepdims=True)\n",
      "/home/user/anaconda3/lib/python3.8/site-packages/scipy/stats/_distn_infrastructure.py:2751: RuntimeWarning: invalid value encountered in double_scalars\n",
      "  pk = 1.0*pk / np.sum(pk, axis=axis, keepdims=True)\n",
      "/home/user/anaconda3/lib/python3.8/site-packages/scipy/stats/_distn_infrastructure.py:2751: RuntimeWarning: invalid value encountered in double_scalars\n",
      "  pk = 1.0*pk / np.sum(pk, axis=axis, keepdims=True)\n",
      "/home/user/anaconda3/lib/python3.8/site-packages/scipy/stats/_distn_infrastructure.py:2751: RuntimeWarning: invalid value encountered in double_scalars\n",
      "  pk = 1.0*pk / np.sum(pk, axis=axis, keepdims=True)\n",
      "/home/user/anaconda3/lib/python3.8/site-packages/scipy/stats/_distn_infrastructure.py:2751: RuntimeWarning: invalid value encountered in double_scalars\n",
      "  pk = 1.0*pk / np.sum(pk, axis=axis, keepdims=True)\n"
     ]
    },
    {
     "name": "stdout",
     "output_type": "stream",
     "text": [
      "77\n",
      "78\n",
      "79\n",
      "80\n",
      "81\n",
      "82\n",
      "83\n",
      "84\n",
      "85\n",
      "86\n",
      "87\n",
      "88\n"
     ]
    },
    {
     "name": "stderr",
     "output_type": "stream",
     "text": [
      "/home/user/anaconda3/lib/python3.8/site-packages/scipy/stats/_distn_infrastructure.py:2751: RuntimeWarning: invalid value encountered in double_scalars\n",
      "  pk = 1.0*pk / np.sum(pk, axis=axis, keepdims=True)\n",
      "/home/user/anaconda3/lib/python3.8/site-packages/scipy/stats/_distn_infrastructure.py:2751: RuntimeWarning: invalid value encountered in double_scalars\n",
      "  pk = 1.0*pk / np.sum(pk, axis=axis, keepdims=True)\n",
      "/home/user/anaconda3/lib/python3.8/site-packages/scipy/stats/_distn_infrastructure.py:2751: RuntimeWarning: invalid value encountered in double_scalars\n",
      "  pk = 1.0*pk / np.sum(pk, axis=axis, keepdims=True)\n",
      "/home/user/anaconda3/lib/python3.8/site-packages/scipy/stats/_distn_infrastructure.py:2751: RuntimeWarning: invalid value encountered in double_scalars\n",
      "  pk = 1.0*pk / np.sum(pk, axis=axis, keepdims=True)\n",
      "/home/user/anaconda3/lib/python3.8/site-packages/scipy/stats/_distn_infrastructure.py:2751: RuntimeWarning: invalid value encountered in double_scalars\n",
      "  pk = 1.0*pk / np.sum(pk, axis=axis, keepdims=True)\n",
      "/home/user/anaconda3/lib/python3.8/site-packages/scipy/stats/_distn_infrastructure.py:2751: RuntimeWarning: invalid value encountered in double_scalars\n",
      "  pk = 1.0*pk / np.sum(pk, axis=axis, keepdims=True)\n",
      "/home/user/anaconda3/lib/python3.8/site-packages/scipy/stats/_distn_infrastructure.py:2751: RuntimeWarning: invalid value encountered in double_scalars\n",
      "  pk = 1.0*pk / np.sum(pk, axis=axis, keepdims=True)\n",
      "/home/user/anaconda3/lib/python3.8/site-packages/scipy/stats/_distn_infrastructure.py:2751: RuntimeWarning: invalid value encountered in double_scalars\n",
      "  pk = 1.0*pk / np.sum(pk, axis=axis, keepdims=True)\n",
      "/home/user/anaconda3/lib/python3.8/site-packages/scipy/stats/_distn_infrastructure.py:2751: RuntimeWarning: invalid value encountered in double_scalars\n",
      "  pk = 1.0*pk / np.sum(pk, axis=axis, keepdims=True)\n",
      "/home/user/anaconda3/lib/python3.8/site-packages/scipy/stats/_distn_infrastructure.py:2751: RuntimeWarning: invalid value encountered in double_scalars\n",
      "  pk = 1.0*pk / np.sum(pk, axis=axis, keepdims=True)\n",
      "/home/user/anaconda3/lib/python3.8/site-packages/scipy/stats/_distn_infrastructure.py:2751: RuntimeWarning: invalid value encountered in double_scalars\n",
      "  pk = 1.0*pk / np.sum(pk, axis=axis, keepdims=True)\n",
      "/home/user/anaconda3/lib/python3.8/site-packages/scipy/stats/_distn_infrastructure.py:2751: RuntimeWarning: invalid value encountered in double_scalars\n",
      "  pk = 1.0*pk / np.sum(pk, axis=axis, keepdims=True)\n"
     ]
    },
    {
     "name": "stdout",
     "output_type": "stream",
     "text": [
      "89\n",
      "90\n",
      "91\n",
      "92\n",
      "93\n",
      "94\n",
      "95\n",
      "96\n",
      "97\n",
      "98\n"
     ]
    },
    {
     "name": "stderr",
     "output_type": "stream",
     "text": [
      "/home/user/anaconda3/lib/python3.8/site-packages/scipy/stats/_distn_infrastructure.py:2751: RuntimeWarning: invalid value encountered in double_scalars\n",
      "  pk = 1.0*pk / np.sum(pk, axis=axis, keepdims=True)\n",
      "/home/user/anaconda3/lib/python3.8/site-packages/scipy/stats/_distn_infrastructure.py:2751: RuntimeWarning: invalid value encountered in double_scalars\n",
      "  pk = 1.0*pk / np.sum(pk, axis=axis, keepdims=True)\n",
      "/home/user/anaconda3/lib/python3.8/site-packages/scipy/stats/_distn_infrastructure.py:2751: RuntimeWarning: invalid value encountered in double_scalars\n",
      "  pk = 1.0*pk / np.sum(pk, axis=axis, keepdims=True)\n",
      "/home/user/anaconda3/lib/python3.8/site-packages/scipy/stats/_distn_infrastructure.py:2751: RuntimeWarning: invalid value encountered in double_scalars\n",
      "  pk = 1.0*pk / np.sum(pk, axis=axis, keepdims=True)\n",
      "/home/user/anaconda3/lib/python3.8/site-packages/scipy/stats/_distn_infrastructure.py:2751: RuntimeWarning: invalid value encountered in double_scalars\n",
      "  pk = 1.0*pk / np.sum(pk, axis=axis, keepdims=True)\n",
      "/home/user/anaconda3/lib/python3.8/site-packages/scipy/stats/_distn_infrastructure.py:2751: RuntimeWarning: invalid value encountered in double_scalars\n",
      "  pk = 1.0*pk / np.sum(pk, axis=axis, keepdims=True)\n",
      "/home/user/anaconda3/lib/python3.8/site-packages/scipy/stats/_distn_infrastructure.py:2751: RuntimeWarning: invalid value encountered in double_scalars\n",
      "  pk = 1.0*pk / np.sum(pk, axis=axis, keepdims=True)\n",
      "/home/user/anaconda3/lib/python3.8/site-packages/scipy/stats/_distn_infrastructure.py:2751: RuntimeWarning: invalid value encountered in double_scalars\n",
      "  pk = 1.0*pk / np.sum(pk, axis=axis, keepdims=True)\n",
      "/home/user/anaconda3/lib/python3.8/site-packages/scipy/stats/_distn_infrastructure.py:2751: RuntimeWarning: invalid value encountered in double_scalars\n",
      "  pk = 1.0*pk / np.sum(pk, axis=axis, keepdims=True)\n",
      "/home/user/anaconda3/lib/python3.8/site-packages/scipy/stats/_distn_infrastructure.py:2751: RuntimeWarning: invalid value encountered in double_scalars\n",
      "  pk = 1.0*pk / np.sum(pk, axis=axis, keepdims=True)\n"
     ]
    },
    {
     "name": "stdout",
     "output_type": "stream",
     "text": [
      "99\n",
      "100\n"
     ]
    },
    {
     "name": "stderr",
     "output_type": "stream",
     "text": [
      "/home/user/anaconda3/lib/python3.8/site-packages/scipy/stats/_distn_infrastructure.py:2751: RuntimeWarning: invalid value encountered in double_scalars\n",
      "  pk = 1.0*pk / np.sum(pk, axis=axis, keepdims=True)\n",
      "/home/user/anaconda3/lib/python3.8/site-packages/scipy/stats/_distn_infrastructure.py:2751: RuntimeWarning: invalid value encountered in double_scalars\n",
      "  pk = 1.0*pk / np.sum(pk, axis=axis, keepdims=True)\n"
     ]
    }
   ],
   "source": [
    "AL_bound = 100      # Maximum points that can be chosen from the pool set\n",
    "no_select = 1       # Points to be selected in each iteration\n",
    "i = 1\n",
    "select_count = []\n",
    "while i <= AL_bound:\n",
    "    print(i)\n",
    "\n",
    "    # Selecting Data Points to be moved from the Pool set to the Train set\n",
    "    T_pool_predproba = PredictSoftClass(model, D_pool)\n",
    "    AF_Ent = getEntropy(T_pool_predproba)\n",
    "    arg_nmax = Find_Random(no_select, D_pool)\n",
    "\n",
    "    D_select, T_select, D_pool, T_pool = PicknDelete_4mPool(arg_nmax, D_pool, T_pool, AF_Ent)\n",
    "    D_Train, T_Train = Add_2Train(D_select, T_select, D_Train, T_Train)\n",
    "\n",
    "    # Retraining the model using the updated Train set\n",
    "    model.fit(D_Train, T_Train)\n",
    "    \n",
    "    #Evaluating the updated model\n",
    "    T_test_mod_proba = PredictSoftClass(model, D_test)\n",
    "    T_test_mod= PredictHardClass(model, D_test)\n",
    "        \n",
    "    acc.append(accuracy_score(T_test, T_test_mod))\n",
    "    \n",
    "    \n",
    "    i = i+no_select  \n",
    "    select_count.append(i)"
   ]
  },
  {
   "cell_type": "markdown",
   "metadata": {
    "id": "XEi8WSUBLWkw"
   },
   "source": [
    "# Plots"
   ]
  },
  {
   "cell_type": "code",
   "execution_count": 40,
   "metadata": {
    "colab": {
     "base_uri": "https://localhost:8080/",
     "height": 352
    },
    "executionInfo": {
     "elapsed": 545321,
     "status": "ok",
     "timestamp": 1620800083999,
     "user": {
      "displayName": "Jayanth N P",
      "photoUrl": "https://lh3.googleusercontent.com/a-/AOh14GiSAXxPuPU38VDX-lRnIXUNkn3BC7hH-HqE9X7XRA=s64",
      "userId": "12595123520231436373"
     },
     "user_tz": -330
    },
    "id": "yvfueT-UKqA1",
    "outputId": "c4f265e6-a3ae-4ebe-baa0-057f43116912"
   },
   "outputs": [
    {
     "data": {
      "text/plain": [
       "Text(0, 0.5, 'Accuracy')"
      ]
     },
     "execution_count": 40,
     "metadata": {},
     "output_type": "execute_result"
    },
    {
     "data": {
      "image/png": "[encoded data removed]",
      "text/plain": [
       "<Figure size 720x360 with 1 Axes>"
      ]
     },
     "metadata": {
      "needs_background": "light"
     },
     "output_type": "display_data"
    }
   ],
   "source": [
    "fig = plt.figure(figsize=(10,5))\n",
    "plt.grid(True, which =\"both\")\n",
    "plt.plot(select_count[0:-39], acc[0:-40])\n",
    "plt.legend(['Random Sampling LR'])\n",
    "plt.title('Test Accuracy')\n",
    "plt.xlabel('Increase in samples')\n",
    "plt.ylabel('Accuracy')"
   ]
  },
  {
   "cell_type": "code",
   "execution_count": 22,
   "metadata": {
    "executionInfo": {
     "elapsed": 545840,
     "status": "ok",
     "timestamp": 1620800084522,
     "user": {
      "displayName": "Jayanth N P",
      "photoUrl": "https://lh3.googleusercontent.com/a-/AOh14GiSAXxPuPU38VDX-lRnIXUNkn3BC7hH-HqE9X7XRA=s64",
      "userId": "12595123520231436373"
     },
     "user_tz": -330
    },
    "id": "LcS5NpsNKqA1"
   },
   "outputs": [
    {
     "data": {
      "text/plain": [
       "101"
      ]
     },
     "execution_count": 22,
     "metadata": {},
     "output_type": "execute_result"
    }
   ],
   "source": [
    "i"
   ]
  },
  {
   "cell_type": "code",
   "execution_count": 23,
   "metadata": {},
   "outputs": [
    {
     "data": {
      "text/plain": [
       "151"
      ]
     },
     "execution_count": 23,
     "metadata": {},
     "output_type": "execute_result"
    }
   ],
   "source": [
    "len(acc)"
   ]
  },
  {
   "cell_type": "code",
   "execution_count": null,
   "metadata": {},
   "outputs": [],
   "source": []
  }
 ],
 "metadata": {
  "colab": {
   "collapsed_sections": [],
   "name": "RandomSampling_LR.ipynb",
   "provenance": []
  },
  "kernelspec": {
   "display_name": "Python 3",
   "language": "python",
   "name": "python3"
  },
  "language_info": {
   "codemirror_mode": {
    "name": "ipython",
    "version": 3
   },
   "file_extension": ".py",
   "mimetype": "text/x-python",
   "name": "python",
   "nbconvert_exporter": "python",
   "pygments_lexer": "ipython3",
   "version": "3.8.5"
  }
 },
 "nbformat": 4,
 "nbformat_minor": 1
}
